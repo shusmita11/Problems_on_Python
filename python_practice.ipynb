{
 "cells": [
  {
   "cell_type": "markdown",
   "id": "a24146c8-5904-4682-9f52-51b2f73bfee3",
   "metadata": {},
   "source": [
    "1. Variable Swap: Write a Python program to swap the values of two variables without using a temporary variable."
   ]
  },
  {
   "cell_type": "code",
   "execution_count": 1,
   "id": "0dee01ca-766b-4cc4-8d84-2315c4424968",
   "metadata": {},
   "outputs": [
    {
     "name": "stdin",
     "output_type": "stream",
     "text": [
      "Enter the first number: 4\n",
      "Enter the second number: 7\n"
     ]
    },
    {
     "name": "stdout",
     "output_type": "stream",
     "text": [
      "Before swap: x = 4 and y = 7\n",
      "After swap: x = 7 and y = 4\n"
     ]
    }
   ],
   "source": [
    "def Swap(x, y):\n",
    "    print(\"Before swap: x = %d and y = %d\" %(x, y))\n",
    "    x, y = y, x\n",
    "    print(\"After swap: x = %d and y = %d\" %(x, y))\n",
    "\n",
    "\n",
    "x = int(input(\"Enter the first number:\"))\n",
    "y = int(input(\"Enter the second number:\"))\n",
    "Swap(x,y)"
   ]
  },
  {
   "cell_type": "markdown",
   "id": "cf800c19-2e29-4743-bbf3-e0a20fbd50a3",
   "metadata": {},
   "source": [
    "<br>"
   ]
  },
  {
   "cell_type": "markdown",
   "id": "f52ebfc4-d311-46ac-91d7-c5b8d7930e13",
   "metadata": {},
   "source": [
    "2. Even or Odd: Write a Python program that takes an integer as input and prints whether it is even or odd."
   ]
  },
  {
   "cell_type": "code",
   "execution_count": 7,
   "id": "78bda17d-4a23-4046-b9c4-b98b951c192e",
   "metadata": {},
   "outputs": [
    {
     "name": "stdin",
     "output_type": "stream",
     "text": [
      "Enter a number: 5\n"
     ]
    },
    {
     "name": "stdout",
     "output_type": "stream",
     "text": [
      "The number 5 is odd\n"
     ]
    }
   ],
   "source": [
    "def Even_Odd(number):\n",
    "    if number%2 == 0:\n",
    "        print(\"The number %d is even\" %(number))\n",
    "        \n",
    "    else:\n",
    "        print(\"The number %d is odd\" %(number))\n",
    "\n",
    "\n",
    "number = int(input(\"Enter a number:\"))\n",
    "Even_Odd(number)"
   ]
  },
  {
   "cell_type": "markdown",
   "id": "d14ef611-1ec3-4391-8af2-033ae0b83838",
   "metadata": {},
   "source": [
    "<br>"
   ]
  },
  {
   "cell_type": "markdown",
   "id": "7a6f6365-54b4-4dba-bc42-8727dcc502ff",
   "metadata": {},
   "source": [
    "3. String Reverse: Write a Python function to reverse a given string and return the reversed string."
   ]
  },
  {
   "cell_type": "code",
   "execution_count": 8,
   "id": "18bfe19c-cd1c-4940-9aeb-00f1c77384b6",
   "metadata": {},
   "outputs": [
    {
     "name": "stdin",
     "output_type": "stream",
     "text": [
      "Enter a String: Shusmita Aziz\n"
     ]
    },
    {
     "name": "stdout",
     "output_type": "stream",
     "text": [
      "The reversed string is: zizA atimsuhS\n"
     ]
    }
   ],
   "source": [
    "def String_Reverse(s):\n",
    "    reversed_string = s[::-1]\n",
    "    return reversed_string\n",
    "\n",
    "\n",
    "s = input(\"Enter a String:\")\n",
    "print(\"The reversed string is:\", String_Reverse(s))"
   ]
  },
  {
   "cell_type": "markdown",
   "id": "5cdb0142-9482-4366-bff9-47985ec87a30",
   "metadata": {},
   "source": [
    "<br>"
   ]
  },
  {
   "cell_type": "markdown",
   "id": "0292ca20-80a9-4506-8469-76d1a25c719c",
   "metadata": {},
   "source": [
    "4. Type Conversion: Given a list of integers, write a Python program to convert each element of the list to a string."
   ]
  },
  {
   "cell_type": "code",
   "execution_count": 9,
   "id": "e0fdedc3-253a-4e8f-9753-abe515bafb04",
   "metadata": {},
   "outputs": [
    {
     "name": "stdout",
     "output_type": "stream",
     "text": [
      "The List of Intergers: [2, 8, 1, 7, 4, 0, 5]\n",
      "The List of Strings: ['2', '8', '1', '7', '4', '0', '5']\n"
     ]
    }
   ],
   "source": [
    "def Convert_to_String(int_list):\n",
    "    s = [str(i) for i in int_list]\n",
    "    return s\n",
    "\n",
    "int_list = [2,8,1,7,4,0,5]\n",
    "print(\"The List of Intergers:\", int_list)\n",
    "\n",
    "str_list = Convert_to_String(int_list)\n",
    "\n",
    "print(\"The List of Strings:\",str_list)"
   ]
  },
  {
   "cell_type": "markdown",
   "id": "4da0237f-ad65-4672-aaba-e17d4f19d7cd",
   "metadata": {},
   "source": [
    "<br>"
   ]
  },
  {
   "cell_type": "markdown",
   "id": "4f31fe77-7d07-4bb5-8cfd-2dff8afdabce",
   "metadata": {},
   "source": [
    "5. Temperature Converter: Write a Python program that converts a temperature in Celsius to Fahrenheit. Take the Celsius temperature as input from the user."
   ]
  },
  {
   "cell_type": "code",
   "execution_count": 10,
   "id": "e1c4af9c-2595-46e6-9c55-4a78d5788b87",
   "metadata": {},
   "outputs": [
    {
     "name": "stdin",
     "output_type": "stream",
     "text": [
      "Enter the Celsius temperature: 40\n"
     ]
    },
    {
     "name": "stdout",
     "output_type": "stream",
     "text": [
      "The Farenheit temperature is: 104.0 F\n"
     ]
    }
   ],
   "source": [
    "temp_c = float(input(\"Enter the Celsius temperature:\"))\n",
    "\n",
    "temp_f = ((temp_c)*9/5)+32\n",
    "\n",
    "print(f\"The Farenheit temperature is: {temp_f} F\")"
   ]
  },
  {
   "cell_type": "markdown",
   "id": "c280156f-7dae-4b8f-b5d6-3fdd490e81f4",
   "metadata": {},
   "source": [
    "6. Data Type Checker: Write a Python function that takes a variable as input and returns the data type of the variable as a string (e.g., “int”, “float”, “str”, “list”, etc.)."
   ]
  },
  {
   "cell_type": "code",
   "execution_count": 11,
   "id": "6ba48e69-c890-4581-9698-ac091cffdea6",
   "metadata": {},
   "outputs": [
    {
     "name": "stdin",
     "output_type": "stream",
     "text": [
      "Enter an Integer value: 10\n"
     ]
    },
    {
     "name": "stdout",
     "output_type": "stream",
     "text": [
      "Data Type: int\n"
     ]
    },
    {
     "name": "stdin",
     "output_type": "stream",
     "text": [
      "Enter a Float value: 2.85\n"
     ]
    },
    {
     "name": "stdout",
     "output_type": "stream",
     "text": [
      "Data Type: float\n"
     ]
    },
    {
     "name": "stdin",
     "output_type": "stream",
     "text": [
      "Enter a String value: chaos\n"
     ]
    },
    {
     "name": "stdout",
     "output_type": "stream",
     "text": [
      "Data Type: str\n"
     ]
    },
    {
     "name": "stdin",
     "output_type": "stream",
     "text": [
      "Enter a List separeted by space: 1 2 3 4\n"
     ]
    },
    {
     "name": "stdout",
     "output_type": "stream",
     "text": [
      "Data Type: list\n"
     ]
    },
    {
     "name": "stdin",
     "output_type": "stream",
     "text": [
      "Enter a Boolean value: True\n"
     ]
    },
    {
     "name": "stdout",
     "output_type": "stream",
     "text": [
      "Data Type: bool\n"
     ]
    }
   ],
   "source": [
    "def data_type(var):\n",
    "    var_type = str(type(var))\n",
    "    type_name = var_type.split(\"'\")[1]\n",
    "    return type_name\n",
    "\n",
    "\n",
    "var_int = int(input(\"Enter an Integer value:\"))\n",
    "print(\"Data Type:\", data_type(var_int))\n",
    "\n",
    "var_float = float(input(\"Enter a Float value:\"))\n",
    "print(\"Data Type:\", data_type(var_float))\n",
    "\n",
    "var_str = input(\"Enter a String value:\")\n",
    "print(\"Data Type:\", data_type(var_str))\n",
    "\n",
    "var_list = list(input(\"Enter a List separeted by space:\").split())\n",
    "print(\"Data Type:\", data_type(var_list))\n",
    "\n",
    "var_bool = bool(input(\"Enter a Boolean value:\"))\n",
    "print(\"Data Type:\", data_type(var_bool))"
   ]
  },
  {
   "cell_type": "markdown",
   "id": "8ea61787-9fad-42b6-b4a3-e79ed7d2cefe",
   "metadata": {},
   "source": [
    "<br>"
   ]
  },
  {
   "cell_type": "markdown",
   "id": "71f7a445-29d3-400b-906f-41da7b55157d",
   "metadata": {},
   "source": [
    "7. String Palindrome: Write a Python function to check if a given string is a palindrome or not."
   ]
  },
  {
   "cell_type": "code",
   "execution_count": 14,
   "id": "e7df3517-feeb-441f-8005-bd634aa45695",
   "metadata": {},
   "outputs": [
    {
     "name": "stdin",
     "output_type": "stream",
     "text": [
      "Enter a string: madam\n"
     ]
    },
    {
     "name": "stdout",
     "output_type": "stream",
     "text": [
      "String 'madam' is a palindrome\n"
     ]
    }
   ],
   "source": [
    "def check_palindrome(s):\n",
    "    left = 0\n",
    "    right = len(s)-1\n",
    "    is_palindrome = True\n",
    "    \n",
    "    while(left<right):\n",
    "        if(s[left] != s[right]):\n",
    "            is_palindrome = False\n",
    "            break\n",
    "        left += 1\n",
    "        right -= 1\n",
    "\n",
    "    if is_palindrome:\n",
    "        print(f\"String '{s}' is a palindrome\")\n",
    "\n",
    "    else:\n",
    "        print(f\"String '{s}' is not a palindrome\")\n",
    "\n",
    "s = input(\"Enter a string:\")\n",
    "check_palindrome(s)"
   ]
  },
  {
   "cell_type": "markdown",
   "id": "26260bdb-90bc-4e7f-820a-02b0557aa3b6",
   "metadata": {},
   "source": [
    "<br>\n",
    "8. String Reversal with Slicing: Write a Python function to reverse a given string using slicing."
   ]
  },
  {
   "cell_type": "code",
   "execution_count": 16,
   "id": "0ff9d4c4-d9ba-4fd7-a15e-723ded4f3a94",
   "metadata": {},
   "outputs": [
    {
     "name": "stdin",
     "output_type": "stream",
     "text": [
      "Enter a String: shusmita\n"
     ]
    },
    {
     "name": "stdout",
     "output_type": "stream",
     "text": [
      "The reversed string is: atimsuhs\n"
     ]
    }
   ],
   "source": [
    "def String_Reverse(s):\n",
    "    reversed_string = s[::-1]\n",
    "    return reversed_string\n",
    "\n",
    "\n",
    "s = input(\"Enter a String:\")\n",
    "print(\"The reversed string is:\", String_Reverse(s))"
   ]
  },
  {
   "cell_type": "markdown",
   "id": "617de539-1613-46a7-a097-a8d1e106cd6c",
   "metadata": {},
   "source": [
    "<br>\n",
    "9. String Concatenation: Write a Python program that takes two strings as input and concatenates them into a single string without using the `+` operator."
   ]
  },
  {
   "cell_type": "code",
   "execution_count": 17,
   "id": "7b71875d-d4cc-4f80-a58c-abb798a3cf47",
   "metadata": {},
   "outputs": [
    {
     "name": "stdin",
     "output_type": "stream",
     "text": [
      "Enter the first string: chess\n",
      "Enter the second string: board\n"
     ]
    },
    {
     "name": "stdout",
     "output_type": "stream",
     "text": [
      "After Concatenation: chessboard\n"
     ]
    }
   ],
   "source": [
    "str1 = input(\"Enter the first string:\")\n",
    "str2 = input(\"Enter the second string:\")\n",
    "\n",
    "s = f\"{str1}{str2}\"\n",
    "\n",
    "print(\"After Concatenation:\",s)"
   ]
  },
  {
   "cell_type": "markdown",
   "id": "b744fa1e-2b2f-42fa-acf7-aea56be9c2cc",
   "metadata": {},
   "source": [
    "<br>\n",
    "10. Typecasting Challenge: Given three variables: `a = ‘100’`, `b = 25`, and `c = ‘10.5’`, write a Python program to perform the following operations and print the results: – Convert `a` to an integer and add it to `b`. – Convert `c` to a float and subtract it from the result of the first operation. – Convert the final result to a string and concatenate it with the string ” is the answer.”"
   ]
  },
  {
   "cell_type": "code",
   "execution_count": 18,
   "id": "a9edb1e1-c4cb-4da2-8e18-7d4473524d95",
   "metadata": {},
   "outputs": [
    {
     "name": "stdout",
     "output_type": "stream",
     "text": [
      "Result after 1st operation: 125\n",
      "Result after 2nd operation: 114.5\n",
      "114.5 is the answer\n"
     ]
    }
   ],
   "source": [
    "a = '100'\n",
    "b = 25\n",
    "c = '10.5'\n",
    "\n",
    "res1 = int(a)+b\n",
    "print(\"Result after 1st operation:\", res1)\n",
    "\n",
    "res2 = float(res1)-float(c)\n",
    "print(\"Result after 2nd operation:\", res2)\n",
    "\n",
    "final_res = str(res2)\n",
    "\n",
    "print(f\"{res2} is the answer\")"
   ]
  },
  {
   "cell_type": "markdown",
   "id": "0b38d48e-fb51-446c-9390-d8e5b0eedd76",
   "metadata": {},
   "source": [
    "<br>\n",
    "11. Positive, Negative, or Zero: Write a Python program that takes a number as input and prints whether it is positive, negative, or zero."
   ]
  },
  {
   "cell_type": "code",
   "execution_count": 21,
   "id": "2a64ff64-217c-429a-b6de-7fbb72a53c87",
   "metadata": {},
   "outputs": [
    {
     "name": "stdin",
     "output_type": "stream",
     "text": [
      "Enter a number: 1\n"
     ]
    },
    {
     "name": "stdout",
     "output_type": "stream",
     "text": [
      "1 is a positive number\n"
     ]
    }
   ],
   "source": [
    "def positive_negative_zero(num):\n",
    "    if(num>0):\n",
    "        print(\"%d is a positive number\" %(num))\n",
    "\n",
    "    elif (num<0):\n",
    "        print(\"%d is a negative number\" %(num))\n",
    "\n",
    "    else:\n",
    "        print(\"The number is zero\")\n",
    "\n",
    "number = int(input(\"Enter a number:\"))\n",
    "positive_negative_zero(number)"
   ]
  },
  {
   "cell_type": "markdown",
   "id": "bbd7a549-4d16-4035-88b2-f0c0308e87fb",
   "metadata": {},
   "source": [
    "<br>\n",
    "12. Largest of Three Numbers: Write a Python program that takes three numbers as input and prints the largest among them."
   ]
  },
  {
   "cell_type": "code",
   "execution_count": 30,
   "id": "7170ff4e-c6a5-48bf-ad55-e5259c213d89",
   "metadata": {},
   "outputs": [
    {
     "name": "stdin",
     "output_type": "stream",
     "text": [
      "Enter the 1st number 10\n",
      "Enter the 2nd number 14\n",
      "Enter the 3rd number 17\n"
     ]
    },
    {
     "name": "stdout",
     "output_type": "stream",
     "text": [
      "17 is the largest\n"
     ]
    }
   ],
   "source": [
    "def largest_number(a, b, c):\n",
    "    if(a>=b and a>=c):\n",
    "        print(f\"{a} is the largest\")\n",
    "\n",
    "    elif(b>=a and b>=c):\n",
    "        print(f\"{b} is the largest\")\n",
    "\n",
    "    else:\n",
    "        print(f\"{c} is the largest\")\n",
    "\n",
    "\n",
    "a =int(input(\"Enter the 1st number\"))\n",
    "b =int(input(\"Enter the 2nd number\"))\n",
    "c =int(input(\"Enter the 3rd number\"))\n",
    "\n",
    "largest_number(a, b, c)"
   ]
  },
  {
   "cell_type": "markdown",
   "id": "942312b0-0f98-49f0-98b7-4d6b581042bd",
   "metadata": {},
   "source": [
    "<br>\n",
    "13. Leap Year Checker: Write a Python program that takes a year as input and determines if it is a leap year or not."
   ]
  },
  {
   "cell_type": "code",
   "execution_count": 32,
   "id": "d6dbd4ff-6e51-46f6-b42d-6d58f95f2b19",
   "metadata": {},
   "outputs": [
    {
     "name": "stdin",
     "output_type": "stream",
     "text": [
      "Enter a year:  2024\n"
     ]
    },
    {
     "name": "stdout",
     "output_type": "stream",
     "text": [
      "2024 is a leap year\n"
     ]
    }
   ],
   "source": [
    "def leap_year(year):\n",
    "    if(year%4 == 0 and year%100 != 0) or (year%400 == 0):\n",
    "        print(\"%d is a leap year\" %(year))\n",
    "        \n",
    "    else:\n",
    "        print(\"%d is not a leap year\" %(year))\n",
    "\n",
    "year = int(input(\"Enter a year: \"))\n",
    "leap_year(year)"
   ]
  },
  {
   "cell_type": "markdown",
   "id": "ef683e16-c65a-475e-b6b2-17f2330b091b",
   "metadata": {},
   "source": [
    "<br>\n",
    "14. Grades Classification: Write a Python program that takes a student’s percentage as input and prints their corresponding grade according to the following criteria: – 90% or above: A+ – 80-89%: A – 70-79%: B – 60-69%: C – Below 60%: Fail"
   ]
  },
  {
   "cell_type": "code",
   "execution_count": 42,
   "id": "384882ef-0cac-42b0-aed1-d2e3db5f0e8f",
   "metadata": {},
   "outputs": [
    {
     "name": "stdin",
     "output_type": "stream",
     "text": [
      "Enter percentage of marks: 97\n"
     ]
    },
    {
     "name": "stdout",
     "output_type": "stream",
     "text": [
      "The grade is: A+\n"
     ]
    }
   ],
   "source": [
    "def grading_system(marks):\n",
    "    if(90<=marks<=100):\n",
    "        return 'A+'\n",
    "\n",
    "    elif(80<=marks<=89):\n",
    "        return 'A'\n",
    "\n",
    "    elif(70<=marks<=79):\n",
    "        return 'B'\n",
    "\n",
    "    elif(60<=marks<=69):\n",
    "        return 'C'\n",
    "\n",
    "    elif(0<=marks<60):\n",
    "        return 'Fail'\n",
    "\n",
    "    else:\n",
    "        return 'Invalid'\n",
    "\n",
    "marks = int(input(\"Enter percentage of marks:\"))\n",
    "grade = grading_system(marks)\n",
    "print(f\"The grade is: {grade}\")"
   ]
  },
  {
   "cell_type": "markdown",
   "id": "43010467-5779-4a0a-9e1c-a5205893ce56",
   "metadata": {},
   "source": [
    "<br>\n",
    "15. Vowel or Consonant: Write a Python program that takes a single character as input and determines whether it is a vowel or a consonant."
   ]
  },
  {
   "cell_type": "code",
   "execution_count": 44,
   "id": "47296b5a-0b1c-4fbf-b07d-4df6782439a1",
   "metadata": {},
   "outputs": [
    {
     "name": "stdin",
     "output_type": "stream",
     "text": [
      "Enter a character v\n"
     ]
    },
    {
     "name": "stdout",
     "output_type": "stream",
     "text": [
      "'v' is a consonant\n"
     ]
    }
   ],
   "source": [
    "def vowel_consonant(c):\n",
    "    if(c=='a' or c=='e' or c=='i' or c=='o' or c=='u'):\n",
    "        print(f\"'{c}' is a vowel\")\n",
    "\n",
    "    else:\n",
    "        print(f\"'{c}' is a consonant\")\n",
    "\n",
    "c = input(\"Enter a character\")\n",
    "vowel_consonant(c)"
   ]
  },
  {
   "cell_type": "markdown",
   "id": "e14e4a09-6f82-4716-917e-4fcf12960de4",
   "metadata": {},
   "source": [
    "<br>\n",
    "16. Time Classification: Write a Python program that takes the time in hours (24-hour format) as input and prints “Good Morning”, “Good Afternoon”, “Good Evening”, or “Good Night” based on the time."
   ]
  },
  {
   "cell_type": "code",
   "execution_count": 45,
   "id": "5c7aeeea-2132-4c31-9a1c-19d7ec096249",
   "metadata": {},
   "outputs": [
    {
     "name": "stdin",
     "output_type": "stream",
     "text": [
      "Enter the time in hours(24-hour format): 08\n"
     ]
    },
    {
     "name": "stdout",
     "output_type": "stream",
     "text": [
      "Good Morning\n"
     ]
    }
   ],
   "source": [
    "def time_classification(hrs):\n",
    "    if hrs>=21 or hrs<6:\n",
    "        print(\"Good Night\")\n",
    "\n",
    "    elif 6<=hrs<12:\n",
    "        print(\"Good Morning\")\n",
    "\n",
    "    elif 12<=hrs<18:\n",
    "        print(\"Good Afternoon\")\n",
    "\n",
    "    else :\n",
    "        print(\"Good Evening\")\n",
    "\n",
    "hrs = int(input(\"Enter the time in hours(24-hour format):\"))\n",
    "time_classification(hrs)"
   ]
  },
  {
   "cell_type": "markdown",
   "id": "e59cefff-4195-499e-a602-73c4604b6df2",
   "metadata": {},
   "source": [
    "<br>\n",
    "17. Triangle Type Checker: Write a Python program that takes three sides of a triangle as input and determines whether it forms an equilateral, isosceles, or scalene triangle."
   ]
  },
  {
   "cell_type": "code",
   "execution_count": 48,
   "id": "ea2e03d7-d146-42ea-b0cb-8156675cd1a6",
   "metadata": {},
   "outputs": [
    {
     "name": "stdin",
     "output_type": "stream",
     "text": [
      "Enter the length of the 1st side of the triangle: 11\n",
      "Enter the length of the 2nd side of the triangle: 17\n",
      "Enter the length of the 3rd side of the triangle: 14\n"
     ]
    },
    {
     "name": "stdout",
     "output_type": "stream",
     "text": [
      "Scalene Triangle\n"
     ]
    }
   ],
   "source": [
    "def triangle_type_checker(a, b, c):\n",
    "    if a==b==c:\n",
    "        print(\"Equilateral Triangle\")\n",
    "\n",
    "    elif a==b or b==c or c==a:\n",
    "        print(\"Isoceles Triangle\")\n",
    "\n",
    "    else:\n",
    "        print(\"Scalene Triangle\")\n",
    "\n",
    "a = int(input(\"Enter the length of the 1st side of the triangle:\"))\n",
    "b = int(input(\"Enter the length of the 2nd side of the triangle:\"))\n",
    "c = int(input(\"Enter the length of the 3rd side of the triangle:\"))\n",
    "triangle_type_checker(a, b, c)"
   ]
  },
  {
   "cell_type": "markdown",
   "id": "7d3c6afb-4e55-433e-81c2-48b4da4d6f79",
   "metadata": {},
   "source": [
    "<br>\n",
    "18. Quadratic Equation Solver: Write a Python program that takes the coefficients (a, b, c) of a quadratic equation as input and calculates and prints the real roots (if they exist) or a message indicating the complex roots."
   ]
  },
  {
   "cell_type": "code",
   "execution_count": 49,
   "id": "f254b110-57fa-4b3b-963d-a89afb24ca17",
   "metadata": {},
   "outputs": [
    {
     "name": "stdin",
     "output_type": "stream",
     "text": [
      "Enter coefficent denoted as a: 1\n",
      "Enter coefficent denoted as b: -5\n",
      "Enter coefficent denoted as c: 6\n"
     ]
    },
    {
     "name": "stdout",
     "output_type": "stream",
     "text": [
      "The real roots of the quadratic equation 1.0x^2+-5.0x+6.0=0 are: 3.0 and 2.0\n"
     ]
    }
   ],
   "source": [
    "import math\n",
    "\n",
    "def quadratic_equation_solver(a, b, c):\n",
    "    d = b**2-4*a*c\n",
    "\n",
    "    if d>=0:\n",
    "        root1 = (-b+math.sqrt(d))/(2*a)\n",
    "        root2 = (-b-math.sqrt(d))/(2*a)\n",
    "        print(f\"The real roots of the quadratic equation {a}x^2+{b}x+{c}=0 are: {root1} and {root2}\")\n",
    "\n",
    "    else:\n",
    "        print(f\"The roots of the quadratic equation {a}x^2+{b}x+{c}=0 are complex\")\n",
    "\n",
    "\n",
    "a = float(input(\"Enter coefficent denoted as a:\"))\n",
    "b = float(input(\"Enter coefficent denoted as b:\"))\n",
    "c = float(input(\"Enter coefficent denoted as c:\"))\n",
    "\n",
    "quadratic_equation_solver(a, b, c)"
   ]
  },
  {
   "cell_type": "markdown",
   "id": "160fa1a4-7a49-476a-80dc-29219b0630d2",
   "metadata": {},
   "source": [
    "<br>\n",
    "19. Number Ranges: Write a Python program that takes an integer as input and prints whether the number falls within the ranges: 0-50, 51-100, 101-150, or above 150."
   ]
  },
  {
   "cell_type": "code",
   "execution_count": 50,
   "id": "32fe5cf3-9cd8-4081-afee-c7e520b7696f",
   "metadata": {},
   "outputs": [
    {
     "name": "stdin",
     "output_type": "stream",
     "text": [
      "Enter a Integer: 111\n"
     ]
    },
    {
     "name": "stdout",
     "output_type": "stream",
     "text": [
      "111 is between the range 101-150\n"
     ]
    }
   ],
   "source": [
    "def Ranges(num):\n",
    "    if 0<=num<=50:\n",
    "        print(f\"{num} is between the range 0-50\")\n",
    "\n",
    "    elif 51<=num<100:\n",
    "        print(f\"{num} is between the range 51-100\")\n",
    "\n",
    "    elif 101<=num<150:\n",
    "        print(f\"{num} is between the range 101-150\")\n",
    "\n",
    "    elif num>=150:\n",
    "        print(f\"{num} is above 150\")\n",
    "\n",
    "num = int(input(\"Enter a Integer:\"))\n",
    "Ranges(num)      "
   ]
  },
  {
   "cell_type": "markdown",
   "id": "8199a4fd-f45d-4329-af95-06c00981e4cb",
   "metadata": {},
   "source": [
    "<br>\n",
    "20. Sum of N Numbers: Write a Python program using a for loop to calculate the sum of the first N natural numbers, where N is taken as input from the user."
   ]
  },
  {
   "cell_type": "code",
   "execution_count": 51,
   "id": "195f10c2-cde2-4313-82e6-88fd711e6846",
   "metadata": {},
   "outputs": [
    {
     "name": "stdin",
     "output_type": "stream",
     "text": [
      "Enter a natural number: 10\n"
     ]
    },
    {
     "name": "stdout",
     "output_type": "stream",
     "text": [
      "Sum of the first 10 natural numbers is: 55\n"
     ]
    }
   ],
   "source": [
    "def Sum(n):\n",
    "    sum=0\n",
    "    for i in range(1, n+1):\n",
    "        sum += i\n",
    "    return sum\n",
    "\n",
    "n = int(input(\"Enter a natural number:\"))\n",
    "print(f\"Sum of the first {n} natural numbers is: {Sum(n)}\")"
   ]
  },
  {
   "cell_type": "markdown",
   "id": "83103433-674d-4280-8a1d-144284a4a991",
   "metadata": {},
   "source": [
    "21. Factorial Calculator: Write a Python program using a while loop to calculate the factorial of a given number N."
   ]
  },
  {
   "cell_type": "code",
   "execution_count": 52,
   "id": "52873c92-8a74-4689-ac4f-798e35cf42d9",
   "metadata": {},
   "outputs": [
    {
     "name": "stdin",
     "output_type": "stream",
     "text": [
      "Enter a number 7\n"
     ]
    },
    {
     "name": "stdout",
     "output_type": "stream",
     "text": [
      "The fatorial of 7 is: 5040\n"
     ]
    }
   ],
   "source": [
    "def Factorial(n):\n",
    "    fact=1\n",
    "    while(n>0):\n",
    "        fact *= n\n",
    "        n-=1\n",
    "    return fact\n",
    "    \n",
    "n = int(input(\"Enter a number\"))\n",
    "print(f\"The fatorial of {n} is: {Factorial(n)}\")"
   ]
  },
  {
   "cell_type": "markdown",
   "id": "261c478a-e9bb-4a26-8a2d-c4fe6a658cae",
   "metadata": {},
   "source": [
    "<br>\n",
    "22. Table of a Number: Write a Python program using a for loop to print the multiplication table of a given number N."
   ]
  },
  {
   "cell_type": "code",
   "execution_count": 53,
   "id": "a315048c-5dc5-4908-91e5-78b0ae203ed9",
   "metadata": {},
   "outputs": [
    {
     "name": "stdin",
     "output_type": "stream",
     "text": [
      "Enter the number: 7\n"
     ]
    },
    {
     "name": "stdout",
     "output_type": "stream",
     "text": [
      "Multiplication table of 7 is:\n",
      "7 * 1 = 7\n",
      "7 * 2 = 14\n",
      "7 * 3 = 21\n",
      "7 * 4 = 28\n",
      "7 * 5 = 35\n",
      "7 * 6 = 42\n",
      "7 * 7 = 49\n",
      "7 * 8 = 56\n",
      "7 * 9 = 63\n",
      "7 * 10 = 70\n"
     ]
    }
   ],
   "source": [
    "def Multiplication(n):\n",
    "    print(\"Multiplication table of %d is:\" %(n))\n",
    "    for i in range (1, 11):\n",
    "        multi = n*i\n",
    "        print(f\"{n} * {i} = {multi}\")\n",
    "        \n",
    "num = int(input(\"Enter the number:\"))\n",
    "Multiplication(num)"
   ]
  },
  {
   "cell_type": "markdown",
   "id": "7609cb69-572e-42dd-9a1a-6d2313e5e83d",
   "metadata": {},
   "source": [
    "<br>\n",
    "23. Count Digits in a Number: Write a Python program using a while loop to count the number of digits in a given integer N."
   ]
  },
  {
   "cell_type": "code",
   "execution_count": 54,
   "id": "a9011465-7b57-4f80-b4c9-065d6466be86",
   "metadata": {},
   "outputs": [
    {
     "name": "stdin",
     "output_type": "stream",
     "text": [
      "Enter the number: 7140\n"
     ]
    },
    {
     "name": "stdout",
     "output_type": "stream",
     "text": [
      "The count of the digits in 7140 is: 4\n"
     ]
    }
   ],
   "source": [
    "def count_digit(n):\n",
    "    cnt=0\n",
    "\n",
    "    if n == 0:\n",
    "        return 1\n",
    "    \n",
    "    while(n>0):\n",
    "        cnt += 1\n",
    "        n //= 10\n",
    "\n",
    "    return cnt\n",
    "\n",
    "num = int(input(\"Enter the number:\"))\n",
    "print(f\"The count of the digits in {num} is: {count_digit(num)}\")"
   ]
  },
  {
   "cell_type": "markdown",
   "id": "7482ddb7-5aea-410a-898f-50ccc13d6311",
   "metadata": {},
   "source": [
    "<br>\n",
    "24. Fibonacci Sequence: Write a Python program using a for loop to generate the Fibonacci sequence up to a given limit N."
   ]
  },
  {
   "cell_type": "code",
   "execution_count": 55,
   "id": "e3bdcf34-e815-4dc1-8eb2-005293bc1345",
   "metadata": {},
   "outputs": [
    {
     "name": "stdin",
     "output_type": "stream",
     "text": [
      "Enter the limit: 40\n"
     ]
    },
    {
     "name": "stdout",
     "output_type": "stream",
     "text": [
      "Fibonacci sequence of upto 40 is:\n",
      "0 1 1 2 3 5 8 13 21 34 "
     ]
    }
   ],
   "source": [
    "def fibonacci_sequence(n):\n",
    "    \n",
    "    if n<=0:\n",
    "        print(\"Enter a positive number\")\n",
    "\n",
    "    else:\n",
    "        a, b = 0, 1\n",
    "        print(f\"Fibonacci sequence of upto {n} is:\")\n",
    "        for i in range(n):\n",
    "            if a > n:\n",
    "                break;\n",
    "            print(a, end=\" \")\n",
    "            a, b = b, a+b\n",
    "\n",
    "num = int(input(\"Enter the limit:\"))\n",
    "fibonacci_sequence(num)"
   ]
  },
  {
   "cell_type": "markdown",
   "id": "b4b2aaa8-1cd5-4883-8952-dc6e519aa804",
   "metadata": {},
   "source": [
    "<br>\n",
    "25. Sum of Even Numbers: Write a Python program using a while loop to calculate the sum of all even numbers between 1 and N, where N is taken as input from the user."
   ]
  },
  {
   "cell_type": "code",
   "execution_count": 56,
   "id": "fd4d49b0-0a3e-4f7f-86b7-ebdc3231d61c",
   "metadata": {},
   "outputs": [
    {
     "name": "stdin",
     "output_type": "stream",
     "text": [
      "Enter the number: 10\n"
     ]
    },
    {
     "name": "stdout",
     "output_type": "stream",
     "text": [
      "The sum between all numbers between 1 to 10 is: 30\n"
     ]
    }
   ],
   "source": [
    "def sum_of_even(n):\n",
    "    sum=0\n",
    "    while(n>0):\n",
    "        if(n%2 == 0):\n",
    "            sum += n\n",
    "        n -= 1\n",
    "    return sum\n",
    "\n",
    "num = int(input(\"Enter the number:\"))\n",
    "print(f\"The sum between all numbers between 1 to {num} is: {sum_of_even(num)}\")"
   ]
  },
  {
   "cell_type": "markdown",
   "id": "2596b8b1-c297-4de7-abb0-988d5a32c647",
   "metadata": {},
   "source": [
    "<br>\n",
    "26. Print Patterns: Write a Python program using nested for loops to print various patterns, such as a right-angled triangle, an inverted right-angled triangle, and so on."
   ]
  },
  {
   "cell_type": "code",
   "execution_count": 57,
   "id": "15c9ca15-e41e-4b35-acce-f8afb5b16a8b",
   "metadata": {},
   "outputs": [
    {
     "name": "stdin",
     "output_type": "stream",
     "text": [
      "Enter number of rows: 8\n"
     ]
    },
    {
     "name": "stdout",
     "output_type": "stream",
     "text": [
      "Right-Angled Triangle\n",
      "*\n",
      "**\n",
      "***\n",
      "****\n",
      "*****\n",
      "******\n",
      "*******\n",
      "********\n",
      "\n",
      "Inverted Right-Angled Triangle\n",
      "********\n",
      "*******\n",
      "******\n",
      "*****\n",
      "****\n",
      "***\n",
      "**\n",
      "*\n"
     ]
    }
   ],
   "source": [
    "def patterns(n):\n",
    "    print(\"Right-Angled Triangle\")\n",
    "    for i1 in range(1, n+1):\n",
    "        for k1 in range(i1):\n",
    "            print('*', end='')\n",
    "        print()\n",
    "\n",
    "    print()\n",
    "    print(\"Inverted Right-Angled Triangle\")\n",
    "    for i2 in range(n, 0, -1):\n",
    "        for k2 in range(i2):\n",
    "            print('*', end='')\n",
    "        print()\n",
    "\n",
    "n = int(input(\"Enter number of rows:\"))\n",
    "patterns(n)"
   ]
  },
  {
   "cell_type": "markdown",
   "id": "9b386588-d19b-4e64-9404-ab868315ded3",
   "metadata": {},
   "source": [
    "<br>\n",
    "27. Prime Number Checker: Write a Python program using a while loop to check if a given number N is prime or not."
   ]
  },
  {
   "cell_type": "code",
   "execution_count": 66,
   "id": "79e17f62-32bd-473d-83b0-0364ccc63e61",
   "metadata": {},
   "outputs": [
    {
     "name": "stdin",
     "output_type": "stream",
     "text": [
      "Enter the number: 29\n"
     ]
    },
    {
     "name": "stdout",
     "output_type": "stream",
     "text": [
      "29 is a prime number\n"
     ]
    }
   ],
   "source": [
    "import math\n",
    "def is_Prime(n):\n",
    "    if(n == 0 or n == 1):\n",
    "        return False\n",
    "\n",
    "    elif(n == 2):\n",
    "        return True\n",
    "\n",
    "    else:\n",
    "        div = 2\n",
    "        while(div<=int(math.sqrt(n))):\n",
    "            if (n%div == 0):\n",
    "                return False\n",
    "            div += 1\n",
    "        return True\n",
    "        \n",
    "\n",
    "n = int(input(\"Enter the number:\"))\n",
    "if is_Prime(n):\n",
    "    print(f\"{n} is a prime number\")\n",
    "\n",
    "else:\n",
    "    print(f\"{n} is not a prime number\")"
   ]
  },
  {
   "cell_type": "markdown",
   "id": "21e136ea-8430-46f0-a456-3bd53e214f90",
   "metadata": {},
   "source": [
    "<br>\n",
    "28. List Manipulation: Given a list of integers, write a Python program using a for loop to find the sum, average, maximum, and minimum values in the list."
   ]
  },
  {
   "cell_type": "code",
   "execution_count": 67,
   "id": "600ecd61-89d6-4e6a-adf4-a590a216986d",
   "metadata": {},
   "outputs": [
    {
     "name": "stdin",
     "output_type": "stream",
     "text": [
      "Enter the elements of the list: 4 7 8 2 5\n"
     ]
    },
    {
     "name": "stdout",
     "output_type": "stream",
     "text": [
      "List: [4, 7, 8, 2, 5]\n",
      "Sum: 26\n",
      "Average: 5.2\n",
      "Maximum: 8\n",
      "Minimum: 2\n"
     ]
    }
   ],
   "source": [
    "def list_manipulation(lst):\n",
    "    sum = 0\n",
    "    max_ = lst[0]\n",
    "    min_ = lst[0]\n",
    "\n",
    "    for i in lst:\n",
    "        sum += i\n",
    "\n",
    "        if(i<min_):\n",
    "            min_=i\n",
    "\n",
    "        if(i>max_):\n",
    "            max_=i\n",
    "\n",
    "    avg = sum/len(lst)\n",
    "\n",
    "    return sum, avg, max_, min_\n",
    "\n",
    "lst = list(map(int, input(\"Enter the elements of the list:\").split()))\n",
    "sum, avg, max_, min_ = list_manipulation(lst)\n",
    "\n",
    "print(f\"List: {lst}\")\n",
    "print(f\"Sum: {sum}\")\n",
    "print(f\"Average: {avg}\")\n",
    "print(f\"Maximum: {max_}\")\n",
    "print(f\"Minimum: {min_}\")"
   ]
  },
  {
   "cell_type": "markdown",
   "id": "4b104e98-2dca-45c0-a3c3-bb86e49efa27",
   "metadata": {},
   "source": [
    "<br>\n",
    "29. Reverse String: Write a Python program using a while loop to reverse a given string."
   ]
  },
  {
   "cell_type": "code",
   "execution_count": 68,
   "id": "8fd42c4b-1829-418e-95e8-d3722f53c931",
   "metadata": {},
   "outputs": [
    {
     "name": "stdin",
     "output_type": "stream",
     "text": [
      "Enter a String aziz\n"
     ]
    },
    {
     "name": "stdout",
     "output_type": "stream",
     "text": [
      "Reversed string of string 'aziz' is: ziza\n"
     ]
    }
   ],
   "source": [
    "def string_reverse(s):\n",
    "    reversed_s =''\n",
    "\n",
    "    length = len(s)\n",
    "    while(length>0):\n",
    "        reversed_s += s[length-1]\n",
    "        length -= 1\n",
    "    return reversed_s\n",
    "\n",
    "s = input(\"Enter a String\")\n",
    "reversed_s = string_reverse(s)\n",
    "print(f\"Reversed string of string '{s}' is: {reversed_s}\")"
   ]
  },
  {
   "cell_type": "markdown",
   "id": "3de11f49-9452-452c-8280-a9292d182b49",
   "metadata": {},
   "source": [
    "<br>\n",
    "30. Multiplication Table: Write a Python program using nested loops to print the multiplication table from 1 to 10."
   ]
  },
  {
   "cell_type": "code",
   "execution_count": 69,
   "id": "bb76e43b-ef2c-4235-af83-4fe9c0bbf744",
   "metadata": {},
   "outputs": [
    {
     "name": "stdout",
     "output_type": "stream",
     "text": [
      "Multiplication table from 1 to 10:\n",
      "Multiplication table for 1\n",
      "1 * 1 = 1\n",
      "1 * 2 = 2\n",
      "1 * 3 = 3\n",
      "1 * 4 = 4\n",
      "1 * 5 = 5\n",
      "1 * 6 = 6\n",
      "1 * 7 = 7\n",
      "1 * 8 = 8\n",
      "1 * 9 = 9\n",
      "1 * 10 = 10\n",
      "\n",
      "Multiplication table for 2\n",
      "2 * 1 = 2\n",
      "2 * 2 = 4\n",
      "2 * 3 = 6\n",
      "2 * 4 = 8\n",
      "2 * 5 = 10\n",
      "2 * 6 = 12\n",
      "2 * 7 = 14\n",
      "2 * 8 = 16\n",
      "2 * 9 = 18\n",
      "2 * 10 = 20\n",
      "\n",
      "Multiplication table for 3\n",
      "3 * 1 = 3\n",
      "3 * 2 = 6\n",
      "3 * 3 = 9\n",
      "3 * 4 = 12\n",
      "3 * 5 = 15\n",
      "3 * 6 = 18\n",
      "3 * 7 = 21\n",
      "3 * 8 = 24\n",
      "3 * 9 = 27\n",
      "3 * 10 = 30\n",
      "\n",
      "Multiplication table for 4\n",
      "4 * 1 = 4\n",
      "4 * 2 = 8\n",
      "4 * 3 = 12\n",
      "4 * 4 = 16\n",
      "4 * 5 = 20\n",
      "4 * 6 = 24\n",
      "4 * 7 = 28\n",
      "4 * 8 = 32\n",
      "4 * 9 = 36\n",
      "4 * 10 = 40\n",
      "\n",
      "Multiplication table for 5\n",
      "5 * 1 = 5\n",
      "5 * 2 = 10\n",
      "5 * 3 = 15\n",
      "5 * 4 = 20\n",
      "5 * 5 = 25\n",
      "5 * 6 = 30\n",
      "5 * 7 = 35\n",
      "5 * 8 = 40\n",
      "5 * 9 = 45\n",
      "5 * 10 = 50\n",
      "\n",
      "Multiplication table for 6\n",
      "6 * 1 = 6\n",
      "6 * 2 = 12\n",
      "6 * 3 = 18\n",
      "6 * 4 = 24\n",
      "6 * 5 = 30\n",
      "6 * 6 = 36\n",
      "6 * 7 = 42\n",
      "6 * 8 = 48\n",
      "6 * 9 = 54\n",
      "6 * 10 = 60\n",
      "\n",
      "Multiplication table for 7\n",
      "7 * 1 = 7\n",
      "7 * 2 = 14\n",
      "7 * 3 = 21\n",
      "7 * 4 = 28\n",
      "7 * 5 = 35\n",
      "7 * 6 = 42\n",
      "7 * 7 = 49\n",
      "7 * 8 = 56\n",
      "7 * 9 = 63\n",
      "7 * 10 = 70\n",
      "\n",
      "Multiplication table for 8\n",
      "8 * 1 = 8\n",
      "8 * 2 = 16\n",
      "8 * 3 = 24\n",
      "8 * 4 = 32\n",
      "8 * 5 = 40\n",
      "8 * 6 = 48\n",
      "8 * 7 = 56\n",
      "8 * 8 = 64\n",
      "8 * 9 = 72\n",
      "8 * 10 = 80\n",
      "\n",
      "Multiplication table for 9\n",
      "9 * 1 = 9\n",
      "9 * 2 = 18\n",
      "9 * 3 = 27\n",
      "9 * 4 = 36\n",
      "9 * 5 = 45\n",
      "9 * 6 = 54\n",
      "9 * 7 = 63\n",
      "9 * 8 = 72\n",
      "9 * 9 = 81\n",
      "9 * 10 = 90\n",
      "\n",
      "Multiplication table for 10\n",
      "10 * 1 = 10\n",
      "10 * 2 = 20\n",
      "10 * 3 = 30\n",
      "10 * 4 = 40\n",
      "10 * 5 = 50\n",
      "10 * 6 = 60\n",
      "10 * 7 = 70\n",
      "10 * 8 = 80\n",
      "10 * 9 = 90\n",
      "10 * 10 = 100\n",
      "\n"
     ]
    }
   ],
   "source": [
    "print(\"Multiplication table from 1 to 10:\")\n",
    "\n",
    "for i in range(1, 11):\n",
    "    print(f\"Multiplication table for {i}\")\n",
    "    for k in range(1, 11):\n",
    "        multi =i*k\n",
    "        print(f\"{i} * {k} = {multi}\")\n",
    "    print()"
   ]
  },
  {
   "cell_type": "markdown",
   "id": "915e5ac2-eee7-4258-8cf3-ab128c9b15e6",
   "metadata": {},
   "source": [
    "<br>\n",
    "31. Print Patterns: Write a Python program using nested loops to print the following pattern:\n",
    "*\r\n",
    "\r\n",
    "**\r\n",
    "\r\n",
    "***\r\n",
    "\r\n",
    "****\r\n",
    "\r\n",
    "*****"
   ]
  },
  {
   "cell_type": "code",
   "execution_count": 70,
   "id": "204f4033-4f84-4ffd-801d-c335c9b9a1a5",
   "metadata": {},
   "outputs": [
    {
     "name": "stdin",
     "output_type": "stream",
     "text": [
      "Enter the rows of the pattern: 7\n"
     ]
    },
    {
     "name": "stdout",
     "output_type": "stream",
     "text": [
      "Right-Angled Triangle\n",
      "*\n",
      "**\n",
      "***\n",
      "****\n",
      "*****\n",
      "******\n",
      "*******\n",
      "\n"
     ]
    }
   ],
   "source": [
    "def pattern(n):\n",
    "    print(\"Right-Angled Triangle\")\n",
    "    for i in range(1, n+1):\n",
    "        for k in range(i):\n",
    "            print('*', end='')\n",
    "        print()\n",
    "    print()\n",
    "\n",
    "n = int(input(\"Enter the rows of the pattern:\"))\n",
    "pattern(n)"
   ]
  },
  {
   "cell_type": "markdown",
   "id": "cd7596e8-9821-49c0-8377-503b0cd2b52c",
   "metadata": {},
   "source": [
    "<br>\n",
    "32. Matrix Multiplication: Write a Python program using nested loops to multiply two matrices."
   ]
  },
  {
   "cell_type": "code",
   "execution_count": 73,
   "id": "1c75cb96-f75d-498a-90e5-f5984a7d1b5d",
   "metadata": {},
   "outputs": [
    {
     "name": "stdin",
     "output_type": "stream",
     "text": [
      "Enter the number of rows of Martrix 1: 2\n",
      "Enter the number of columns of Matrix 1: 2\n"
     ]
    },
    {
     "name": "stdout",
     "output_type": "stream",
     "text": [
      "Enter the elements of the 1st matrix:\n"
     ]
    },
    {
     "name": "stdin",
     "output_type": "stream",
     "text": [
      "element (1,1) 4\n",
      "element (1,2) 7\n",
      "element (2,1) 2\n",
      "element (2,2) 8\n"
     ]
    },
    {
     "name": "stdout",
     "output_type": "stream",
     "text": [
      "Matrix 1:\n",
      " [[4, 7], [2, 8]]\n"
     ]
    },
    {
     "name": "stdin",
     "output_type": "stream",
     "text": [
      "Enter the number of rows of Martrix 2: 2\n",
      "Enter the number of columns of Matrix 2: 3\n"
     ]
    },
    {
     "name": "stdout",
     "output_type": "stream",
     "text": [
      "\n",
      "Enter the elements of the 2nd matrix:\n"
     ]
    },
    {
     "name": "stdin",
     "output_type": "stream",
     "text": [
      "element (1,1) 1\n",
      "element (1,2) 2\n",
      "element (1,3) 3\n",
      "element (2,1) 4\n",
      "element (2,2) 5\n",
      "element (2,3) 6\n"
     ]
    },
    {
     "name": "stdout",
     "output_type": "stream",
     "text": [
      "Matrix 2:\n",
      " [[1, 2, 3], [4, 5, 6]]\n",
      "\n",
      "Matrix after Multiplication:\n",
      " [[32, 43, 54], [34, 44, 54]]\n"
     ]
    }
   ],
   "source": [
    "def matrix_input(rows, columns):\n",
    "    matrix2D = [];\n",
    "    for r in range (rows):\n",
    "        row = []\n",
    "        for c in range (columns):\n",
    "            element = int(input(f\"element ({r+1},{c+1})\"))\n",
    "            row.append(element)\n",
    "        matrix2D.append(row)\n",
    "    return matrix2D\n",
    "\n",
    "def matrix_multiplication(matrix1, matrix2):\n",
    "    rows_m1 = len(matrix1)\n",
    "    cols_m1 = len(matrix1[0])\n",
    "    rows_m2 = len(matrix2)\n",
    "    cols_m2 = len(matrix2[0])\n",
    "\n",
    "    multi_matrix = [[0 for i in range(cols_m2)] for k in range (rows_m1)]\n",
    "\n",
    "    for i in range(rows_m1):\n",
    "        for j in range(cols_m2):\n",
    "            for k in range(rows_m2):\n",
    "                multi_matrix[i][j] += matrix1[i][k] * matrix2[k][j]\n",
    "\n",
    "    return multi_matrix\n",
    "\n",
    "\n",
    "rows_m1 = int(input(\"Enter the number of rows of Martrix 1:\"))\n",
    "cols_m1 = int(input(\"Enter the number of columns of Matrix 1:\"))\n",
    "print(\"Enter the elements of the 1st matrix:\")\n",
    "matrix1 = matrix_input(rows_m1, cols_m1)\n",
    "print(\"Matrix 1:\\n\", matrix1)\n",
    "\n",
    "rows_m2 = int(input(\"Enter the number of rows of Martrix 2:\"))\n",
    "cols_m2 = int(input(\"Enter the number of columns of Matrix 2:\"))\n",
    "print(\"\\nEnter the elements of the 2nd matrix:\")\n",
    "matrix2 = matrix_input(rows_m2, cols_m2)\n",
    "print(\"Matrix 2:\\n\", matrix2)\n",
    "\n",
    "if (cols_m1 != rows_m2):\n",
    "    print(\"\\nMatrix Multiplication not possible\")\n",
    "\n",
    "else:\n",
    "    multi_matrix = matrix_multiplication(matrix1, matrix2)\n",
    "    print(\"\\nMatrix after Multiplication:\\n\", multi_matrix)"
   ]
  },
  {
   "cell_type": "markdown",
   "id": "9ea0c85f-e7d7-4512-be39-bf3a9676cef5",
   "metadata": {},
   "source": [
    "<br>\n",
    "33. Chessboard Pattern: Write a Python program using nested loops to print a chessboard pattern (alternating “X” and “O” characters) of size 8×8.34. Number Pyramid: Write a Python program using nested loops to print a number pyramid like the following: 1 22 333 4444 55555"
   ]
  },
  {
   "cell_type": "code",
   "execution_count": 74,
   "id": "21b98c6e-4af9-4dc2-b1ee-6ea6ef871e15",
   "metadata": {},
   "outputs": [
    {
     "name": "stdout",
     "output_type": "stream",
     "text": [
      "Chessboard:\n",
      "X O X O X O X O \n",
      "O X O X O X O X \n",
      "X O X O X O X O \n",
      "O X O X O X O X \n",
      "X O X O X O X O \n",
      "O X O X O X O X \n",
      "X O X O X O X O \n",
      "O X O X O X O X \n",
      "\n",
      "Pyramid:\n",
      "1\n",
      "22\n",
      "333\n",
      "4444\n",
      "55555\n"
     ]
    }
   ],
   "source": [
    "def Chessboard():\n",
    "    for i in range(8):\n",
    "        for k in range(8):\n",
    "            if (i + k) % 2 == 0: \n",
    "                print('X', end=' ')\n",
    "            else:\n",
    "                print('O', end=' ')\n",
    "        print()\n",
    "\n",
    "def Pyramid():\n",
    "    for i in range(1, 6):\n",
    "        for k in range(i):\n",
    "            print(i, end='')\n",
    "        print()\n",
    "\n",
    "print(\"Chessboard:\")\n",
    "Chessboard()\n",
    "\n",
    "print()\n",
    "\n",
    "print(\"Pyramid:\")\n",
    "Pyramid()"
   ]
  },
  {
   "cell_type": "markdown",
   "id": "a4476038-ae31-49a5-aaf5-4bd284ba7882",
   "metadata": {},
   "source": [
    "<br>\n",
    "34. List Sum: Write a Python program to find the sum of all elements in a given list of integers."
   ]
  },
  {
   "cell_type": "code",
   "execution_count": 75,
   "id": "f404c8d1-d3e0-49e4-8e17-0e66fd9808ad",
   "metadata": {},
   "outputs": [
    {
     "name": "stdin",
     "output_type": "stream",
     "text": [
      "Enter the elements of the list:  4 7 5 8 2\n"
     ]
    },
    {
     "name": "stdout",
     "output_type": "stream",
     "text": [
      "Sum of the elements of the list [4, 7, 5, 8, 2] is: 26\n"
     ]
    }
   ],
   "source": [
    "def list_sum(lst):\n",
    "    sum = 0\n",
    "    for i in lst:\n",
    "        sum += i\n",
    "\n",
    "    return sum\n",
    "\n",
    "lst = list(map(int, input(\"Enter the elements of the list: \").split()))\n",
    "sum = list_sum(lst)\n",
    "print(f\"Sum of the elements of the list {lst} is: {sum}\")"
   ]
  },
  {
   "cell_type": "markdown",
   "id": "48e82b63-197b-4438-94f1-2ef71c754741",
   "metadata": {},
   "source": [
    "<br>\n",
    "35. List Average: Write a Python program to calculate the average of all elements in a given list of integers."
   ]
  },
  {
   "cell_type": "code",
   "execution_count": 76,
   "id": "c5e84ecb-d71e-4519-a002-b218390eac58",
   "metadata": {},
   "outputs": [
    {
     "name": "stdin",
     "output_type": "stream",
     "text": [
      "Enter the elements of the list:  5 1 0 4 2\n"
     ]
    },
    {
     "name": "stdout",
     "output_type": "stream",
     "text": [
      "Sum of the elements of the list [5, 1, 0, 4, 2] is: 2.4\n"
     ]
    }
   ],
   "source": [
    "def list_avg(lst):\n",
    "    sum = 0\n",
    "    for i in lst:\n",
    "        sum += i\n",
    "\n",
    "    avg = sum/len(lst)\n",
    "    return avg\n",
    "\n",
    "lst = list(map(int, input(\"Enter the elements of the list: \").split()))\n",
    "avg = list_avg(lst)\n",
    "print(f\"Sum of the elements of the list {lst} is: {avg}\")"
   ]
  },
  {
   "cell_type": "markdown",
   "id": "7d1d00cf-90c8-4724-b82a-7c4b428f433f",
   "metadata": {},
   "source": [
    "<br>\n",
    "36. List Max and Min: Write a Python program to find the maximum and minimum values in a given list of integers."
   ]
  },
  {
   "cell_type": "code",
   "execution_count": 77,
   "id": "ab6f638e-0614-468e-84b0-0c06539e9e70",
   "metadata": {},
   "outputs": [
    {
     "name": "stdin",
     "output_type": "stream",
     "text": [
      "Enter the elements of the list:  5 1 0 4\n"
     ]
    },
    {
     "name": "stdout",
     "output_type": "stream",
     "text": [
      "The maximum value of the list is: 5\n",
      "The minimum value of the list is: 0\n"
     ]
    }
   ],
   "source": [
    "def list_min_max(lst):\n",
    "    max_ = lst[0]\n",
    "    min_ = lst[0]\n",
    "\n",
    "    for i in lst:\n",
    "        if(i<min_):\n",
    "            min_=i\n",
    "\n",
    "        if(i>max_):\n",
    "            max_=i\n",
    "    return min_, max_\n",
    "\n",
    "lst = list(map(int, input(\"Enter the elements of the list: \").split()))\n",
    "min_, max_ = list_min_max(lst)\n",
    "print(\"The maximum value of the list is:\", max_)\n",
    "print(\"The minimum value of the list is:\", min_)"
   ]
  },
  {
   "cell_type": "markdown",
   "id": "f441af41-ee37-4eac-864b-196523b2a12d",
   "metadata": {},
   "source": [
    "<br>\n",
    "37. List Sorting: Write a Python program to sort a list of integers in ascending order."
   ]
  },
  {
   "cell_type": "code",
   "execution_count": 78,
   "id": "58b8609b-4603-4f31-a92a-1ccbfdd96393",
   "metadata": {},
   "outputs": [
    {
     "name": "stdin",
     "output_type": "stream",
     "text": [
      "Enter the elements of the list:  5 1 0 4\n"
     ]
    },
    {
     "name": "stdout",
     "output_type": "stream",
     "text": [
      "original list: [5, 1, 0, 4]\n",
      "sorted list: [0, 1, 4, 5]\n"
     ]
    }
   ],
   "source": [
    "lst = list(map(int, input(\"Enter the elements of the list: \").split()))\n",
    "\n",
    "print(\"original list:\", lst)\n",
    "\n",
    "lst.sort()\n",
    "\n",
    "print(\"sorted list:\", lst)"
   ]
  },
  {
   "cell_type": "markdown",
   "id": "79f4ba7a-3662-42fc-b2a2-c079dcfcf269",
   "metadata": {},
   "source": [
    "<br>\n",
    "38. List Filtering: Given a list of integers, write a Python program to create a new list that contains only the even numbers from the original list."
   ]
  },
  {
   "cell_type": "code",
   "execution_count": 79,
   "id": "636ade96-84f8-4e79-8762-3ae6bb48f138",
   "metadata": {},
   "outputs": [
    {
     "name": "stdin",
     "output_type": "stream",
     "text": [
      "Enter the elements of the list:  1 2 3 4 5 6 7 8\n"
     ]
    },
    {
     "name": "stdout",
     "output_type": "stream",
     "text": [
      "Original List: [1, 2, 3, 4, 5, 6, 7, 8]\n",
      "Filtered List: [2, 4, 6, 8]\n"
     ]
    }
   ],
   "source": [
    "def list_filtering(lst):\n",
    "    filtered_list = []\n",
    "    for i in lst:\n",
    "        if i%2 == 0:\n",
    "            filtered_list.append(i)\n",
    "    return filtered_list\n",
    "\n",
    "lst = list(map(int, input(\"Enter the elements of the list: \").split()))\n",
    "print(\"Original List:\", lst)\n",
    "\n",
    "ft_list = list_filtering(lst)\n",
    "print(\"Filtered List:\", ft_list)"
   ]
  },
  {
   "cell_type": "markdown",
   "id": "552408b0-1127-4feb-be6b-6d5523ff5414",
   "metadata": {},
   "source": [
    "<br>\n",
    "39. List Reversal: Write a Python program to reverse a given list without using any built-in functions."
   ]
  },
  {
   "cell_type": "code",
   "execution_count": 80,
   "id": "4bd17adf-e18b-4fd6-87ce-3fcd4e710e0a",
   "metadata": {},
   "outputs": [
    {
     "name": "stdin",
     "output_type": "stream",
     "text": [
      "Enter the elements of the list:  4 7 0 8 1 2 5\n"
     ]
    },
    {
     "name": "stdout",
     "output_type": "stream",
     "text": [
      "original list: [4, 7, 0, 8, 1, 2, 5]\n",
      "reversed list: [5, 2, 1, 8, 0, 7, 4]\n"
     ]
    }
   ],
   "source": [
    "lst = list(map(int, input(\"Enter the elements of the list: \").split()))\n",
    "\n",
    "print(\"original list:\", lst)\n",
    "\n",
    "lst.reverse()\n",
    "\n",
    "print(\"reversed list:\", lst)"
   ]
  },
  {
   "cell_type": "markdown",
   "id": "b0f00a96-511a-49cb-87a9-9af1d1a5bbe8",
   "metadata": {},
   "source": [
    "<br>\n",
    "40. List Manipulation: Given two lists of integers, write a Python program to create a new list that contains elements common to both lists."
   ]
  },
  {
   "cell_type": "code",
   "execution_count": 82,
   "id": "a0ea86f2-d2db-409d-9af0-cb81f50dbaad",
   "metadata": {},
   "outputs": [
    {
     "name": "stdin",
     "output_type": "stream",
     "text": [
      "Enter the elements of the 1st list:  1 2 3 4\n",
      "Enter the elements of the 2nd list:  4 7 8 5 2\n"
     ]
    },
    {
     "name": "stdout",
     "output_type": "stream",
     "text": [
      "1st list [1, 2, 3, 4]\n",
      "2nd list [4, 7, 8, 5, 2]\n",
      "common list [2, 4]\n"
     ]
    }
   ],
   "source": [
    "def list_manipulation(list1, list2):\n",
    "\n",
    "    common_list = []\n",
    "    for element in list1:\n",
    "        if element in list2:\n",
    "            common_list.append(element)\n",
    "\n",
    "    return common_list\n",
    "\n",
    "list1 = list(map(int, input(\"Enter the elements of the 1st list: \").split()))\n",
    "list2 = list(map(int, input(\"Enter the elements of the 2nd list: \").split()))\n",
    "\n",
    "common_list = list_manipulation(list1, list2)\n",
    "\n",
    "print(\"1st list\", list1)\n",
    "print(\"2nd list\", list2)\n",
    "print(\"common list\", common_list)"
   ]
  },
  {
   "cell_type": "markdown",
   "id": "38a7c8bb-970a-4c37-a54a-3c68a3b71f28",
   "metadata": {},
   "source": [
    "<br>\n",
    "41. List Element Count: Write a Python program to count the occurrences of a specific element in a given list."
   ]
  },
  {
   "cell_type": "code",
   "execution_count": 84,
   "id": "2384da9e-c275-42b1-b7e4-ab37496405dd",
   "metadata": {},
   "outputs": [
    {
     "name": "stdin",
     "output_type": "stream",
     "text": [
      "Enter the elements of the list:  1 4 4 7 0 7 4 4 1 2 8 2 8 5\n",
      "Enter an element: 4\n"
     ]
    },
    {
     "name": "stdout",
     "output_type": "stream",
     "text": [
      "4 occours in the list for 4 times\n"
     ]
    }
   ],
   "source": [
    "lst = list(map(int, input(\"Enter the elements of the list: \").split()))\n",
    "\n",
    "a = int(input(\"Enter an element:\"))\n",
    "\n",
    "cnt = lst.count(a)\n",
    "\n",
    "print(f\"{a} occours in the list for {cnt} times\")"
   ]
  },
  {
   "cell_type": "markdown",
   "id": "a2bb80cf-7267-40cb-aa12-5d489b03d336",
   "metadata": {},
   "source": [
    "<br>\n",
    "42. List Duplicates Removal: Write a Python program to remove duplicates from a given list while preserving the order of the elements."
   ]
  },
  {
   "cell_type": "code",
   "execution_count": 85,
   "id": "cc8c5529-c66f-4abb-9cc2-2b6e0549f699",
   "metadata": {},
   "outputs": [
    {
     "name": "stdin",
     "output_type": "stream",
     "text": [
      "Enter the elements of the list:  1 4 4 7 0 7 4 4 1 2 8 2 8 5\n"
     ]
    },
    {
     "name": "stdout",
     "output_type": "stream",
     "text": [
      "Original List: [1, 4, 4, 7, 0, 7, 4, 4, 1, 2, 8, 2, 8, 5]\n",
      "Unique List: [1, 4, 7, 0, 2, 8, 5]\n"
     ]
    }
   ],
   "source": [
    "def unique_list(lst):\n",
    "    uni_list = []\n",
    "\n",
    "    for element in lst:\n",
    "        if element not in uni_list:\n",
    "            uni_list.append(element)\n",
    "\n",
    "    return uni_list\n",
    "\n",
    "lst = list(map(int, input(\"Enter the elements of the list: \").split()))\n",
    "\n",
    "print(\"Original List:\", lst)\n",
    "\n",
    "uni_list = unique_list(lst)\n",
    "\n",
    "print(\"Unique List:\", uni_list)"
   ]
  },
  {
   "cell_type": "markdown",
   "id": "e5b84d80-116a-4edb-a730-af6c30bbd27d",
   "metadata": {},
   "source": [
    "<br>\n",
    "43. List Comprehension: Given a list of integers, write a Python program to create a new list that contains the squares of the elements using list comprehension."
   ]
  },
  {
   "cell_type": "code",
   "execution_count": 86,
   "id": "1446ac58-83f8-4def-b78a-f76b67614807",
   "metadata": {},
   "outputs": [
    {
     "name": "stdin",
     "output_type": "stream",
     "text": [
      "Enter the elements of the list:  1 2 3 4\n"
     ]
    },
    {
     "name": "stdout",
     "output_type": "stream",
     "text": [
      "Original List: [1, 2, 3, 4]\n",
      "Updated List: [1, 4, 9, 16]\n"
     ]
    }
   ],
   "source": [
    "def squared_list(lst):\n",
    "    length = len(lst)\n",
    "    sqr_list = [i**2 for i in lst]\n",
    "    return sqr_list\n",
    "\n",
    "lst = list(map(int, input(\"Enter the elements of the list: \").split()))\n",
    "\n",
    "print(\"Original List:\", lst)\n",
    "\n",
    "sqr_list = squared_list(lst)\n",
    "\n",
    "print(\"Updated List:\", sqr_list)"
   ]
  },
  {
   "cell_type": "markdown",
   "id": "9160630a-88c8-4261-bd28-02302e387f99",
   "metadata": {},
   "source": [
    "<br>\n",
    "44. Matrix Addition: Write a Python program to add two matrices represented as nested lists."
   ]
  },
  {
   "cell_type": "code",
   "execution_count": 88,
   "id": "b57a45db-b3e5-4742-a7e3-987581a7945c",
   "metadata": {},
   "outputs": [
    {
     "name": "stdin",
     "output_type": "stream",
     "text": [
      "Enter the number of rows: 2\n",
      "Enter the number of columns: 3\n"
     ]
    },
    {
     "name": "stdout",
     "output_type": "stream",
     "text": [
      "Enter the elements of the 1st matrix:\n"
     ]
    },
    {
     "name": "stdin",
     "output_type": "stream",
     "text": [
      "element (1,1) 4\n",
      "element (1,2) 7\n",
      "element (1,3) 0\n",
      "element (2,1) 8\n",
      "element (2,2) 0\n",
      "element (2,3) 5\n"
     ]
    },
    {
     "name": "stdout",
     "output_type": "stream",
     "text": [
      "Matrix 1: [[4, 7, 0], [8, 0, 5]]\n",
      "Enter the elements of the 2nd matrix:\n"
     ]
    },
    {
     "name": "stdin",
     "output_type": "stream",
     "text": [
      "element (1,1) 1\n",
      "element (1,2) 1\n",
      "element (1,3) 1\n",
      "element (2,1) 1\n",
      "element (2,2) 11\n",
      "element (2,3) 1\n"
     ]
    },
    {
     "name": "stdout",
     "output_type": "stream",
     "text": [
      "Matrix 2: [[1, 1, 1], [1, 11, 1]]\n",
      "Matrix after Addition: [[5, 8, 1], [9, 11, 6]]\n"
     ]
    }
   ],
   "source": [
    "def matrix_input(rows, columns):\n",
    "    matrix2D = [];\n",
    "    for r in range (rows):\n",
    "        row = []\n",
    "        for c in range (columns):\n",
    "            element = int(input(f\"element ({r+1},{c+1})\"))\n",
    "            row.append(element)\n",
    "        matrix2D.append(row)\n",
    "    return matrix2D\n",
    "\n",
    "def marix_addition(matrix1, matrix2):\n",
    "    add_matrix = []\n",
    "    for r in range(rows):\n",
    "        row = []\n",
    "        for c in range(columns):\n",
    "           row.append(matrix1[r][c]+matrix2[r][c])\n",
    "        add_matrix.append(row)\n",
    "    return add_matrix\n",
    "\n",
    "rows = int(input(\"Enter the number of rows:\"))\n",
    "columns = int(input(\"Enter the number of columns:\"))\n",
    "\n",
    "print(\"Enter the elements of the 1st matrix:\")\n",
    "matrix1 = matrix_input(rows, columns)\n",
    "print(\"Matrix 1:\", matrix1)\n",
    "\n",
    "print(\"Enter the elements of the 2nd matrix:\")\n",
    "matrix2 = matrix_input(rows, columns)\n",
    "print(\"Matrix 2:\", matrix2)\n",
    "\n",
    "add_matrix = marix_addition(matrix1, matrix2)\n",
    "print(\"Matrix after Addition:\", add_matrix)"
   ]
  },
  {
   "cell_type": "markdown",
   "id": "84c55a64-985a-467a-b42b-675e75083c0b",
   "metadata": {},
   "source": [
    "<br>\n",
    "45. Flatten Nested List: Write a Python program to flatten a given nested list and convert it into a single-dimensional list."
   ]
  },
  {
   "cell_type": "code",
   "execution_count": 89,
   "id": "488f6b12-da6f-445a-a54d-6ddfffbd1ac5",
   "metadata": {},
   "outputs": [
    {
     "name": "stdout",
     "output_type": "stream",
     "text": [
      "Original List: [[4, 7], [2, 5, 8], [1, 0], [0, 8]]\n",
      "Single Dimensional List: [4, 7, 2, 5, 8, 1, 0, 0, 8]\n"
     ]
    }
   ],
   "source": [
    "def single_dimensional_list(nested_list):\n",
    "    flat_list = []\n",
    "    for sublist in nested_list:\n",
    "        for element in sublist:\n",
    "            flat_list.append(element)\n",
    "\n",
    "    return flat_list\n",
    "\n",
    "nested_list = [[4,7], [2,5,8], [1,0], [0, 8]]\n",
    "\n",
    "flat_list = single_dimensional_list(nested_list)\n",
    "\n",
    "print(\"Original List:\", nested_list)\n",
    "print(\"Single Dimensional List:\", flat_list)"
   ]
  },
  {
   "cell_type": "markdown",
   "id": "950beefb-79f3-4c49-a6d4-8f788b3862df",
   "metadata": {},
   "source": [
    "<br>\n",
    "46. List Element Frequency: Given a nested list containing lists of integers, write a Python program to count the frequency of each element in the entire nested list."
   ]
  },
  {
   "cell_type": "code",
   "execution_count": 90,
   "id": "f8df7ba4-9e06-47c7-aa8d-948994ae3153",
   "metadata": {},
   "outputs": [
    {
     "name": "stdout",
     "output_type": "stream",
     "text": [
      "Original Matrix [[4, 7], [2, 5, 8], [1, 0], [0, 8]]\n",
      "Element Frequencies:\n",
      "4 appears 1 times\n",
      "7 appears 1 times\n",
      "2 appears 1 times\n",
      "5 appears 1 times\n",
      "8 appears 2 times\n",
      "1 appears 1 times\n",
      "0 appears 2 times\n"
     ]
    }
   ],
   "source": [
    "def list_element_count(list_):\n",
    "    count = {}\n",
    "    for row in list_:\n",
    "        for element in row:\n",
    "            if element in count:\n",
    "                count[element] += 1\n",
    "            else:\n",
    "                count[element] = 1\n",
    "\n",
    "    for element, cnt in count.items():\n",
    "        print(f\"{element} appears {cnt} times\")\n",
    "\n",
    "nested_list = [[4,7], [2,5,8], [1,0], [0, 8]]\n",
    "print(\"Original Matrix\", nested_list)\n",
    "\n",
    "print(\"Element Frequencies:\")\n",
    "list_element_count(nested_list)"
   ]
  },
  {
   "cell_type": "markdown",
   "id": "198be13d-e676-43cb-9033-87a6a6eea3d8",
   "metadata": {},
   "source": [
    "<br>\n",
    "47. Transpose Matrix: Write a Python program to transpose a given matrix represented as a nested list."
   ]
  },
  {
   "cell_type": "code",
   "execution_count": 91,
   "id": "ba7cde57-2586-4d71-be84-68a76b619b1f",
   "metadata": {},
   "outputs": [
    {
     "name": "stdin",
     "output_type": "stream",
     "text": [
      "Enter the number of rows: 2\n",
      "Enter the number of columns: 3\n"
     ]
    },
    {
     "name": "stdout",
     "output_type": "stream",
     "text": [
      "Enter the elements of the 2D matrix:\n"
     ]
    },
    {
     "name": "stdin",
     "output_type": "stream",
     "text": [
      "element (1,1) 1\n",
      "element (1,2) 2\n",
      "element (1,3) 3\n",
      "element (2,1) 4\n",
      "element (2,2) 5\n",
      "element (2,3) 6\n"
     ]
    },
    {
     "name": "stdout",
     "output_type": "stream",
     "text": [
      "Original Matrix: [[1, 2, 3], [4, 5, 6]]\n",
      "Transposed Matrix: [[1, 4], [2, 5], [3, 6]]\n"
     ]
    }
   ],
   "source": [
    "def matrix_input(rows, columns):\n",
    "    matrix2D = [];\n",
    "    for r in range (rows):\n",
    "        row = []\n",
    "        for c in range (columns):\n",
    "            element = int(input(f\"element ({r+1},{c+1})\"))\n",
    "            row.append(element)\n",
    "        matrix2D.append(row)\n",
    "    return matrix2D\n",
    "\n",
    "def transpose_matrix(matrix):\n",
    "    transposed_matrix = []\n",
    "    for c in range(columns):\n",
    "        row = []\n",
    "        for r in range(rows):\n",
    "           row.append(matrix[r][c])\n",
    "        transposed_matrix.append(row)\n",
    "    return transposed_matrix\n",
    "\n",
    "rows = int(input(\"Enter the number of rows:\"))\n",
    "columns = int(input(\"Enter the number of columns:\"))\n",
    "\n",
    "print(\"Enter the elements of the 2D matrix:\")\n",
    "matrix = matrix_input(rows, columns)\n",
    "\n",
    "print(\"Original Matrix:\", matrix)\n",
    "\n",
    "transposed_matrix = transpose_matrix(matrix)\n",
    "print(\"Transposed Matrix:\", transposed_matrix)"
   ]
  },
  {
   "cell_type": "markdown",
   "id": "3adb65c9-7ace-4c25-a6f8-324362efb62b",
   "metadata": {},
   "source": [
    "<br>\n",
    "48. List of Lists Concatenation: Given a list of nested lists, write a Python program to concatenate all the sublists into a single flat list."
   ]
  },
  {
   "cell_type": "code",
   "execution_count": 92,
   "id": "6323acea-1a3f-4af7-ae59-5b6d9300a659",
   "metadata": {},
   "outputs": [
    {
     "name": "stdout",
     "output_type": "stream",
     "text": [
      "Original List: [[4, 7], [2, 5, 8], [1, 0], [0, 8]]\n",
      "Flattened List: [4, 7, 2, 5, 8, 1, 0, 0, 8]\n"
     ]
    }
   ],
   "source": [
    "def flatten_single_list(nested_list):\n",
    "    flat_list = []\n",
    "    for sublist in nested_list:\n",
    "        for element in sublist:\n",
    "            flat_list.append(element)\n",
    "\n",
    "    return flat_list\n",
    "\n",
    "nested_list = [[4,7], [2,5,8], [1,0], [0, 8]]\n",
    "\n",
    "flat_list = flatten_single_list(nested_list)\n",
    "\n",
    "print(\"Original List:\", nested_list)\n",
    "print(\"Flattened List:\", flat_list)"
   ]
  },
  {
   "cell_type": "markdown",
   "id": "fcd95810-65ca-4046-a4bf-d58cc84fb118",
   "metadata": {},
   "source": [
    "<br>\n",
    "49. Tuple Concatenation: Write a Python program to concatenate two tuples and create a new tuple."
   ]
  },
  {
   "cell_type": "code",
   "execution_count": 93,
   "id": "31dcbfcb-6e5b-483d-82ed-7ea8936c9b73",
   "metadata": {},
   "outputs": [
    {
     "name": "stdout",
     "output_type": "stream",
     "text": [
      "Tuple 1: (8, 5, 4, 7)\n",
      "Tuple 2: (2, 1, 1, 0)\n",
      "Concatenated Tuple: (8, 5, 4, 7, 2, 1, 1, 0)\n"
     ]
    }
   ],
   "source": [
    "def concatenate_tuples(tuple1, tuple2):\n",
    "    concat_tuple = tuple1+tuple2\n",
    "    return concat_tuple\n",
    "\n",
    "tuple1 = (8, 5, 4, 7)\n",
    "tuple2 = (2, 1, 1, 0)\n",
    "\n",
    "concat_tuple = concatenate_tuples(tuple1, tuple2)\n",
    "\n",
    "print(\"Tuple 1:\", tuple1)\n",
    "print(\"Tuple 2:\", tuple2)\n",
    "print(\"Concatenated Tuple:\", concat_tuple)"
   ]
  },
  {
   "cell_type": "markdown",
   "id": "ed17d1b2-4487-47b2-9c52-9ad52f7b91e6",
   "metadata": {},
   "source": [
    "<br>\n",
    "50. Tuple Unpacking: Given a tuple with three elements (x, y, z), write a Python program to unpack the tuple and assign the values to three variables"
   ]
  },
  {
   "cell_type": "code",
   "execution_count": 94,
   "id": "63f03506-5973-42dd-a685-9e4579748e22",
   "metadata": {},
   "outputs": [
    {
     "name": "stdout",
     "output_type": "stream",
     "text": [
      "Variable x: 4\n",
      "Type of x: <class 'int'>\n",
      "Variable y: 7\n",
      "Type of y: <class 'int'>\n",
      "Variable z: 0\n",
      "Type of z: <class 'int'>\n"
     ]
    }
   ],
   "source": [
    "tuple_ = (4,7,0)\n",
    "\n",
    "x, y, z = tuple_\n",
    "\n",
    "print(\"Variable x:\", x)\n",
    "print(\"Type of x:\", type(x))\n",
    "\n",
    "print(\"Variable y:\", y)\n",
    "print(\"Type of y:\", type(y))\n",
    "\n",
    "print(\"Variable z:\", z)\n",
    "print(\"Type of z:\", type(z))"
   ]
  },
  {
   "cell_type": "markdown",
   "id": "4d35f976-819b-4f26-aad0-df6e5d0e82a2",
   "metadata": {},
   "source": [
    "<br>\n",
    "51. Tuple Sorting: Write a Python program to sort a tuple of integers in ascending order."
   ]
  },
  {
   "cell_type": "code",
   "execution_count": 95,
   "id": "50fd2643-6828-4722-9bda-09f6735d2769",
   "metadata": {},
   "outputs": [
    {
     "name": "stdin",
     "output_type": "stream",
     "text": [
      "Enter the elements of the tuple:  0 5 1 4\n"
     ]
    },
    {
     "name": "stdout",
     "output_type": "stream",
     "text": [
      "Original Tuple: (0, 5, 1, 4)\n",
      "Sorted Tuple: (0, 1, 4, 5)\n"
     ]
    }
   ],
   "source": [
    "def sort_tuple(tuple_):\n",
    "    list_ = list(tuple_)\n",
    "    list_.sort()\n",
    "    sorted_tuple = tuple(list_)\n",
    "    return sorted_tuple\n",
    "\n",
    "tuple_ = tuple(map(int, input(\"Enter the elements of the tuple: \").split()))\n",
    "print(\"Original Tuple:\", tuple_)\n",
    "\n",
    "sorted_tuple = sort_tuple(tuple_)\n",
    "print(\"Sorted Tuple:\", sorted_tuple)"
   ]
  },
  {
   "cell_type": "markdown",
   "id": "5a9c4061-4959-4ef1-b491-0213c5d98624",
   "metadata": {},
   "source": [
    "<br>\n",
    "52. Tuple Frequency Count: Given a tuple containing various elements, write a Python program to count the frequency of a specific element in the tuple."
   ]
  },
  {
   "cell_type": "code",
   "execution_count": 96,
   "id": "1cd8fe0b-0ab7-4397-a9ff-d181b11e4324",
   "metadata": {},
   "outputs": [
    {
     "name": "stdin",
     "output_type": "stream",
     "text": [
      "Enter the elements of the tuple:  1 0 0 1 2 4 1 0 5\n"
     ]
    },
    {
     "name": "stdout",
     "output_type": "stream",
     "text": [
      "Tuple: (1, 0, 0, 1, 2, 4, 1, 0, 5)\n"
     ]
    },
    {
     "name": "stdin",
     "output_type": "stream",
     "text": [
      "Enter an element: 0\n"
     ]
    },
    {
     "name": "stdout",
     "output_type": "stream",
     "text": [
      "0 occours in the tuple for 3 times\n"
     ]
    }
   ],
   "source": [
    "tuple_ = tuple(map(int, input(\"Enter the elements of the tuple: \").split()))\n",
    "print(\"Tuple:\", tuple_\n",
    "     )\n",
    "a = int(input(\"Enter an element:\"))\n",
    "\n",
    "cnt = tuple_.count(a)\n",
    "\n",
    "print(f\"{a} occours in the tuple for {cnt} times\")"
   ]
  },
  {
   "cell_type": "markdown",
   "id": "f80453af-7278-4cdd-8cc3-1d48226a4460",
   "metadata": {},
   "source": [
    "<br>\n",
    "53. Tuple to List: Write a Python program to convert a tuple into a list."
   ]
  },
  {
   "cell_type": "code",
   "execution_count": 97,
   "id": "60d89d5c-42bd-4204-83ea-fa3908fe77ea",
   "metadata": {},
   "outputs": [
    {
     "name": "stdin",
     "output_type": "stream",
     "text": [
      "Enter the elements of the tuple:  4 7 0 1\n"
     ]
    },
    {
     "name": "stdout",
     "output_type": "stream",
     "text": [
      "Tuple: (4, 7, 0, 1)\n",
      "List: [4, 7, 0, 1]\n"
     ]
    }
   ],
   "source": [
    "tuple_ = tuple(map(int, input(\"Enter the elements of the tuple: \").split()))\n",
    "list_ = list(tuple_)\n",
    "\n",
    "print(\"Tuple:\", tuple_)\n",
    "print(\"List:\", list_)"
   ]
  },
  {
   "cell_type": "markdown",
   "id": "1d484923-f64c-4938-b2f4-cf7019c6f165",
   "metadata": {},
   "source": [
    "54. Tuple Reversal: Write a Python program to reverse a tuple without using any built-in functions."
   ]
  },
  {
   "cell_type": "code",
   "execution_count": 98,
   "id": "65028c82-d2a8-44bf-890e-eb4d76c8039c",
   "metadata": {},
   "outputs": [
    {
     "name": "stdin",
     "output_type": "stream",
     "text": [
      "Enter the elements of the tuple:  5 2 0 1\n"
     ]
    },
    {
     "name": "stdout",
     "output_type": "stream",
     "text": [
      "Original Tuple: (5, 2, 0, 1)\n",
      "Reversed Tuple: (1, 0, 2, 5)\n"
     ]
    }
   ],
   "source": [
    "def tuple_reverse(tuple_):\n",
    "    length = len(tuple_)\n",
    "    list_ = []\n",
    "\n",
    "    for i in range(length-1,-1,-1):\n",
    "        list_.append(tuple_[i])\n",
    "\n",
    "    reversed_tuple = tuple(list_)\n",
    "    return reversed_tuple\n",
    "\n",
    "tuple_ = tuple(map(int, input(\"Enter the elements of the tuple: \").split()))\n",
    "print(\"Original Tuple:\", tuple_)\n",
    "\n",
    "reversed_tuple = tuple_reverse(tuple_)\n",
    "print(\"Reversed Tuple:\", reversed_tuple)"
   ]
  },
  {
   "cell_type": "markdown",
   "id": "f77af676-68c0-4208-a43b-6517fc4ead74",
   "metadata": {},
   "source": [
    "<br>\n",
    "55. Tuple Slicing: Given a tuple, write a Python program to extract a slice of elements from it."
   ]
  },
  {
   "cell_type": "code",
   "execution_count": 99,
   "id": "15a79cf5-3115-40bc-888c-d6efd2b9858d",
   "metadata": {},
   "outputs": [
    {
     "name": "stdin",
     "output_type": "stream",
     "text": [
      "Enter the elements of the tuple:  1 2 3 4 5 6 7\n"
     ]
    },
    {
     "name": "stdout",
     "output_type": "stream",
     "text": [
      "Original Tuple: (1, 2, 3, 4, 5, 6, 7)\n"
     ]
    },
    {
     "name": "stdin",
     "output_type": "stream",
     "text": [
      "Enter Start: 0\n",
      "Enter Stop: 4\n",
      "Enter Step: 2\n"
     ]
    },
    {
     "name": "stdout",
     "output_type": "stream",
     "text": [
      "Sliced Tuple: (1, 3)\n"
     ]
    }
   ],
   "source": [
    "def tuple_slicing(tuple_):\n",
    "    start = int(input(\"Enter Start:\"))\n",
    "    stop = int(input(\"Enter Stop:\"))\n",
    "    step = int(input(\"Enter Step:\"))\n",
    "    sliced_tuple = tuple_[start:stop:step]\n",
    "    return sliced_tuple\n",
    "\n",
    "tuple_ = tuple(map(int, input(\"Enter the elements of the tuple: \").split()))\n",
    "print(\"Original Tuple:\", tuple_)\n",
    "\n",
    "sliced_tuple = tuple_slicing(tuple_)\n",
    "print(\"Sliced Tuple:\", sliced_tuple)"
   ]
  },
  {
   "cell_type": "markdown",
   "id": "4f996695-34aa-4276-bf09-771c80599fe1",
   "metadata": {},
   "source": [
    "<br>\n",
    "56. Tuple Operations: Given two tuples of integers, write a Python program to perform element-wise addition, subtraction, and multiplication and create new tuples for each operation."
   ]
  },
  {
   "cell_type": "code",
   "execution_count": 100,
   "id": "a480d283-8297-49dd-958a-430a5278c63e",
   "metadata": {},
   "outputs": [
    {
     "name": "stdin",
     "output_type": "stream",
     "text": [
      "Enter the elements of the 1st tuple:  1 2 3\n",
      "Enter the elements of the 2nd tuple:  4 5 6\n"
     ]
    },
    {
     "name": "stdout",
     "output_type": "stream",
     "text": [
      "Tuple after Addition (5, 7, 9)\n",
      "Tuple after Subtraction (-3, -3, -3)\n",
      "Tuple after Multiplication (4, 10, 18)\n"
     ]
    }
   ],
   "source": [
    "def tuple_operation(tuple1, tuple2):\n",
    "    if len(tuple1) != len(tuple2):\n",
    "        print (\"Tuples must have same length\")\n",
    "        return None, None, None\n",
    "\n",
    "    length = len(tuple1)\n",
    "    add = tuple(tuple1[i]+tuple2[i] for i in range(length))\n",
    "    sub = tuple(tuple1[i]-tuple2[i] for i in range (length))\n",
    "    multi = tuple(tuple1[i]*tuple2[i] for i in range (length))\n",
    "\n",
    "    return add, sub, multi\n",
    "tuple1 = tuple(map(int, input(\"Enter the elements of the 1st tuple: \").split()))\n",
    "tuple2 = tuple(map(int, input(\"Enter the elements of the 2nd tuple: \").split()))\n",
    "\n",
    "add, sub, multi = tuple_operation(tuple1, tuple2)\n",
    "\n",
    "print(\"Tuple after Addition\", add)\n",
    "print(\"Tuple after Subtraction\", sub)\n",
    "print(\"Tuple after Multiplication\", multi)"
   ]
  },
  {
   "cell_type": "markdown",
   "id": "82782177-1aaf-47f9-b894-2cdf4734983f",
   "metadata": {},
   "source": [
    "<br>\n",
    "57. Tuple Membership Test: Write a Python program that takes an element as input and checks if it exists in a given tuple."
   ]
  },
  {
   "cell_type": "code",
   "execution_count": 101,
   "id": "40aadf8b-f7b9-48e2-85c3-52bc348d3c32",
   "metadata": {},
   "outputs": [
    {
     "name": "stdin",
     "output_type": "stream",
     "text": [
      "Enter the elements of the tuple:  4 7 8 2 5\n"
     ]
    },
    {
     "name": "stdout",
     "output_type": "stream",
     "text": [
      "Tuple: (4, 7, 8, 2, 5)\n"
     ]
    },
    {
     "name": "stdin",
     "output_type": "stream",
     "text": [
      "Enter the element to check 4\n"
     ]
    },
    {
     "name": "stdout",
     "output_type": "stream",
     "text": [
      "Element 4 exists in the tuple\n"
     ]
    }
   ],
   "source": [
    "def tuple_membership(tuple_, element):\n",
    "    if element in tuple_:\n",
    "        return True\n",
    "\n",
    "    else:\n",
    "        return False\n",
    "\n",
    "tuple_ = tuple(map(int, input(\"Enter the elements of the tuple: \").split()))\n",
    "print(\"Tuple:\", tuple_)\n",
    "\n",
    "element = int(input(\"Enter the element to check\"))\n",
    "is_exist = tuple_membership(tuple_, element)\n",
    "\n",
    "if is_exist:\n",
    "    print(f\"Element {element} exists in the tuple\")\n",
    "\n",
    "else:\n",
    "    print(f\"Element {element} does not exist in the tuple\")"
   ]
  },
  {
   "cell_type": "markdown",
   "id": "d2eb6c1f-d103-4a9e-a831-32e27c5d8e8f",
   "metadata": {},
   "source": [
    "<br>\n",
    "58. Tuple Packing: Write a Python program to pack three variables into a single tuple and print the tuple."
   ]
  },
  {
   "cell_type": "code",
   "execution_count": 102,
   "id": "1164b9e6-7436-42e3-970f-df92bc66a664",
   "metadata": {},
   "outputs": [
    {
     "name": "stdout",
     "output_type": "stream",
     "text": [
      "Variables: 4, 7, 8\n",
      "Packed Tuple: (4, 7, 8)\n"
     ]
    }
   ],
   "source": [
    "var1 = 4\n",
    "var2 = 7\n",
    "var3 = 8\n",
    "\n",
    "print(f\"Variables: {var1}, {var2}, {var3}\")\n",
    "tuple_ = (var1, var2, var3)\n",
    "print(\"Packed Tuple:\", tuple_)"
   ]
  },
  {
   "cell_type": "markdown",
   "id": "2c991283-55e4-43b2-8023-eb1e5f6061d0",
   "metadata": {},
   "source": [
    "<br>\n",
    "59. Nested List Element Access: Given a nested list, write a Python program to access and print specific elements from it."
   ]
  },
  {
   "cell_type": "code",
   "execution_count": 104,
   "id": "47660136-ec12-41e1-98d8-dfb06187d19a",
   "metadata": {},
   "outputs": [
    {
     "name": "stdin",
     "output_type": "stream",
     "text": [
      "Enter the row index: 1\n",
      "Enter the column index: 2\n"
     ]
    },
    {
     "name": "stdout",
     "output_type": "stream",
     "text": [
      "Element at index [1][2]: 8\n"
     ]
    }
   ],
   "source": [
    "nested_list = [[4,7], [2,5,8], [1,0], [0, 8]]\n",
    "\n",
    "row = int(input(\"Enter the row index:\"))\n",
    "column = int(input(\"Enter the column index:\"))\n",
    "\n",
    "length = len(nested_list)\n",
    "\n",
    "if 0<=row<length and 0<=column<len(nested_list[row]):\n",
    "    print(f\"Element at index [{row}][{column}]:\", nested_list[row][column])\n",
    "\n",
    "else:\n",
    "    print(\"Invalid Index\")"
   ]
  },
  {
   "cell_type": "markdown",
   "id": "a7b12ca4-fb3a-46e9-baf3-d99a5572ac5f",
   "metadata": {},
   "source": [
    "<br>\n",
    "60. Nested List Flattening: Write a Python program to flatten a nested list and convert it into a single-dimensional list."
   ]
  },
  {
   "cell_type": "code",
   "execution_count": 105,
   "id": "c7e39d36-dbe8-4919-972c-0ecedb656d93",
   "metadata": {},
   "outputs": [
    {
     "name": "stdout",
     "output_type": "stream",
     "text": [
      "Original List: [[4, 7], [2, 5, 8], [1, 0], [0, 8]]\n",
      "Flattened List: [4, 7, 2, 5, 8, 1, 0, 0, 8]\n"
     ]
    }
   ],
   "source": [
    "def flatten_single_list(nested_list):\n",
    "    flat_list = []\n",
    "    for sublist in nested_list:\n",
    "        for element in sublist:\n",
    "            flat_list.append(element)\n",
    "\n",
    "    return flat_list\n",
    "\n",
    "nested_list = [[4,7], [2,5,8], [1,0], [0, 8]]\n",
    "\n",
    "flat_list = flatten_single_list(nested_list)\n",
    "\n",
    "print(\"Original List:\", nested_list)\n",
    "print(\"Flattened List:\", flat_list)"
   ]
  },
  {
   "cell_type": "markdown",
   "id": "f36c179d-5064-4b6a-8f0d-e9a8525c9953",
   "metadata": {},
   "source": [
    "<br>\n",
    "61. Nested List Sorting: Given a nested list containing lists of integers, write a Python program to sort the sublists based on their lengths."
   ]
  },
  {
   "cell_type": "code",
   "execution_count": 106,
   "id": "e3fc8ac2-283a-4f1b-a7ea-1d52a57365df",
   "metadata": {},
   "outputs": [
    {
     "name": "stdout",
     "output_type": "stream",
     "text": [
      "Original List: [[4, 7], [2, 5, 8], [1, 0, 1, 0], [2, 4]]\n",
      "Shorted List: [[4, 7], [2, 4], [2, 5, 8], [1, 0, 1, 0]]\n"
     ]
    }
   ],
   "source": [
    "nested_list = [[4,7], [2,5,8], [1,0,1,0], [2,4]]\n",
    "print(\"Original List:\", nested_list)\n",
    "\n",
    "nested_list.sort(key=len)\n",
    "print(\"Shorted List:\", nested_list)"
   ]
  },
  {
   "cell_type": "markdown",
   "id": "d9a5b1eb-bbd5-46cc-960c-fe5b1ec49569",
   "metadata": {},
   "source": [
    "<br>\n",
    "62. List of Tuples Conversion: Given a nested list containing tuples of (x, y) coordinates, write a Python program to convert it into a list of x-coordinates and a list of y-coordinates."
   ]
  },
  {
   "cell_type": "code",
   "execution_count": 107,
   "id": "dc86425b-7106-4c4e-91d5-722f06b71f17",
   "metadata": {},
   "outputs": [
    {
     "name": "stdout",
     "output_type": "stream",
     "text": [
      "List of x-coordinates: [2, 4, 5, 1]\n",
      "List of y-coordinates: [8, 7, 0, 1]\n"
     ]
    }
   ],
   "source": [
    "nested_list = [(2,8), (4, 7), (5, 0), (1, 1)]\n",
    "\n",
    "x_coordinates = []\n",
    "y_coordinates = []\n",
    "\n",
    "for tuple_ in nested_list:\n",
    "    x_coordinates.append(tuple_[0])\n",
    "    y_coordinates.append(tuple_[1])\n",
    "\n",
    "print(\"List of x-coordinates:\", x_coordinates)\n",
    "print(\"List of y-coordinates:\", y_coordinates)"
   ]
  },
  {
   "cell_type": "markdown",
   "id": "c7c62748-16bc-46c6-8b88-ff88dc10e0f2",
   "metadata": {},
   "source": [
    "<br>\n",
    "63. Matrix Transpose: Write a Python program to transpose a given matrix represented as a nested list."
   ]
  },
  {
   "cell_type": "code",
   "execution_count": 108,
   "id": "469bf4a0-4be3-453c-b139-00975bdeb83f",
   "metadata": {},
   "outputs": [
    {
     "name": "stdin",
     "output_type": "stream",
     "text": [
      "Enter the number of rows: 2\n",
      "Enter the number of columns: 3\n"
     ]
    },
    {
     "name": "stdout",
     "output_type": "stream",
     "text": [
      "Enter the elements of the 2D matrix:\n"
     ]
    },
    {
     "name": "stdin",
     "output_type": "stream",
     "text": [
      "element (1,1) 4\n",
      "element (1,2) 7\n",
      "element (1,3) 0\n",
      "element (2,1) 8\n",
      "element (2,2) 0\n",
      "element (2,3) 5\n"
     ]
    },
    {
     "name": "stdout",
     "output_type": "stream",
     "text": [
      "Original Matrix: [[4, 7, 0], [8, 0, 5]]\n",
      "Transposed Matrix: [[4, 8], [7, 0], [0, 5]]\n"
     ]
    }
   ],
   "source": [
    "def matrix_input(rows, columns):\n",
    "    matrix2D = [];\n",
    "    for r in range (rows):\n",
    "        row = []\n",
    "        for c in range (columns):\n",
    "            element = int(input(f\"element ({r+1},{c+1})\"))\n",
    "            row.append(element)\n",
    "        matrix2D.append(row)\n",
    "    return matrix2D\n",
    "\n",
    "def transpose_matrix(matrix):\n",
    "    transposed_matrix = []\n",
    "    for c in range(columns):\n",
    "        row = []\n",
    "        for r in range(rows):\n",
    "           row.append(matrix[r][c])\n",
    "        transposed_matrix.append(row)\n",
    "    return transposed_matrix\n",
    "\n",
    "rows = int(input(\"Enter the number of rows:\"))\n",
    "columns = int(input(\"Enter the number of columns:\"))\n",
    "\n",
    "print(\"Enter the elements of the 2D matrix:\")\n",
    "matrix = matrix_input(rows, columns)\n",
    "\n",
    "print(\"Original Matrix:\", matrix)\n",
    "\n",
    "transposed_matrix = transpose_matrix(matrix)\n",
    "print(\"Transposed Matrix:\", transposed_matrix)"
   ]
  },
  {
   "cell_type": "markdown",
   "id": "d2204870-c0d8-48ee-85fe-e9b423d0cb26",
   "metadata": {},
   "source": [
    "<br>\n",
    "64. Nested List Concatenation: Given a list of nested lists, write a Python program to concatenate all the sublists into a single flat list."
   ]
  },
  {
   "cell_type": "code",
   "execution_count": 109,
   "id": "f38abf01-93ce-4206-90e6-6c0e87aead06",
   "metadata": {},
   "outputs": [
    {
     "name": "stdout",
     "output_type": "stream",
     "text": [
      "Original List: [[4, 7], [2, 5, 8], [1, 0], [0, 8]]\n",
      "Flattened List: [4, 7, 2, 5, 8, 1, 0, 0, 8]\n"
     ]
    }
   ],
   "source": [
    "def list_concatenation(nested_list):\n",
    "    flat_list = []\n",
    "    for sublist in nested_list:\n",
    "        for element in sublist:\n",
    "            flat_list.append(element)\n",
    "\n",
    "    return flat_list\n",
    "\n",
    "nested_list = [[4,7], [2,5,8], [1,0], [0, 8]]\n",
    "\n",
    "flat_list = list_concatenation(nested_list)\n",
    "\n",
    "print(\"Original List:\", nested_list)\n",
    "print(\"Flattened List:\", flat_list)"
   ]
  },
  {
   "cell_type": "markdown",
   "id": "86c2ac2b-7055-41f7-b893-09167b5d4526",
   "metadata": {},
   "source": [
    "<br>\n",
    "65. Count Even Numbers: Write a Python program to count the number of even numbers in a nested list."
   ]
  },
  {
   "cell_type": "code",
   "execution_count": 110,
   "id": "c548ba17-8d5a-4efc-ae15-31240cd4181b",
   "metadata": {},
   "outputs": [
    {
     "name": "stdout",
     "output_type": "stream",
     "text": [
      "Nested List: [[4, 7], [2, 5, 8], [1, 0], [0, 8]]\n",
      "Number of even numbers in the nested list: 6\n"
     ]
    }
   ],
   "source": [
    "def count_even_numbers(nested_list):\n",
    "    count = 0\n",
    "    for sublist in nested_list:\n",
    "        for element in sublist:\n",
    "            if element%2 == 0:\n",
    "                count += 1\n",
    "    return count\n",
    "\n",
    "nested_list = [[4,7], [2,5,8], [1,0], [0, 8]]\n",
    "print(\"Nested List:\", nested_list)\n",
    "count = count_even_numbers(nested_list)\n",
    "print(\"Number of even numbers in the nested list:\", count)"
   ]
  },
  {
   "cell_type": "markdown",
   "id": "f2d25d63-fb0f-4a90-b900-b35b627cc668",
   "metadata": {},
   "source": [
    "<br>\n",
    "66. Maximum Element in Nested List: Write a Python program to find the maximum element in a nested list of integers."
   ]
  },
  {
   "cell_type": "code",
   "execution_count": 111,
   "id": "9dd7a2e8-c890-4a20-8045-8fa69bfa5dba",
   "metadata": {},
   "outputs": [
    {
     "name": "stdout",
     "output_type": "stream",
     "text": [
      "Nested List: [[4, 7], [2, 5, 8], [1, 0], [0, 8]]\n",
      "Max element in the nested list: 8\n"
     ]
    }
   ],
   "source": [
    "def max_element(nested_list):\n",
    "    flat_list = []\n",
    "    for sublist in nested_list:\n",
    "        for element in sublist:\n",
    "            flat_list.append(element)\n",
    "\n",
    "    max_element = max(flat_list)\n",
    "    return max_element\n",
    "\n",
    "nested_list = [[4,7], [2,5,8], [1,0], [0, 8]]\n",
    "print(\"Nested List:\", nested_list)\n",
    "max_ = max_element(nested_list)\n",
    "print(\"Max element in the nested list:\", max_)"
   ]
  },
  {
   "cell_type": "markdown",
   "id": "7c590e8a-a412-43cd-9470-51e632e4f73c",
   "metadata": {},
   "source": [
    "<br>\n",
    "67. Diagonal Sum of Matrix: Given a square matrix represented as a nested list, write a Python program to calculate the sum of the elements in the main diagonal."
   ]
  },
  {
   "cell_type": "code",
   "execution_count": 112,
   "id": "6f85c06f-05b3-49b1-8f8e-4f87930147b6",
   "metadata": {},
   "outputs": [
    {
     "name": "stdin",
     "output_type": "stream",
     "text": [
      "Enter the number of rows and columns: 3\n"
     ]
    },
    {
     "name": "stdout",
     "output_type": "stream",
     "text": [
      "Enter the elements of the 2D matrix:\n"
     ]
    },
    {
     "name": "stdin",
     "output_type": "stream",
     "text": [
      "element (1,1) 4\n",
      "element (1,2) 7\n",
      "element (1,3) 0\n",
      "element (2,1) 8\n",
      "element (2,2) 0\n",
      "element (2,3) 5\n",
      "element (3,1) 1\n",
      "element (3,2) 1\n",
      "element (3,3) 1\n"
     ]
    },
    {
     "name": "stdout",
     "output_type": "stream",
     "text": [
      "Square Matrix: [[4, 7, 0], [8, 0, 5], [1, 1, 1]]\n",
      "Sum of the elements in the main diagonal: 5\n"
     ]
    }
   ],
   "source": [
    "def matrix_input(rows, columns):\n",
    "    matrix2D = [];\n",
    "    for r in range (rows):\n",
    "        row = []\n",
    "        for c in range (columns):\n",
    "            element = int(input(f\"element ({r+1},{c+1})\"))\n",
    "            row.append(element)\n",
    "        matrix2D.append(row)\n",
    "    return matrix2D\n",
    "\n",
    "def diagonal_sum(matrix):\n",
    "    length = len(matrix)\n",
    "    sum = 0\n",
    "    for i in range(length):\n",
    "           sum += matrix[i][i]\n",
    "    return sum\n",
    "\n",
    "r_c = int(input(\"Enter the number of rows and columns:\"))\n",
    "\n",
    "print(\"Enter the elements of the 2D matrix:\")\n",
    "matrix = matrix_input(r_c, r_c)\n",
    "\n",
    "print(\"Square Matrix:\", matrix)\n",
    "\n",
    "sum = diagonal_sum(matrix)\n",
    "print(\"Sum of the elements in the main diagonal:\", sum)"
   ]
  },
  {
   "cell_type": "markdown",
   "id": "e6314c82-6b02-497e-aeb5-5bda00145d3c",
   "metadata": {},
   "source": [
    "<br>\n",
    "68. Nested List Element Search: Write a Python program to search for a specific element in a nested list and return its position (row and column indices)."
   ]
  },
  {
   "cell_type": "code",
   "execution_count": 113,
   "id": "e4a12b0d-6e22-40f7-9f75-20ead3495d0a",
   "metadata": {},
   "outputs": [
    {
     "name": "stdout",
     "output_type": "stream",
     "text": [
      "Nested List: [[4, 7], [2, 5, 8], [1, 0], [0, 8]]\n"
     ]
    },
    {
     "name": "stdin",
     "output_type": "stream",
     "text": [
      "Enter the element to search for: 8\n"
     ]
    },
    {
     "name": "stdout",
     "output_type": "stream",
     "text": [
      "Element 8 found at position (1, 2)\n"
     ]
    }
   ],
   "source": [
    "def element_search(nested_list, element):\n",
    "    flat_list = []\n",
    "    for row in range(len(nested_list)):\n",
    "        for col in range(len(nested_list[row])):\n",
    "            if nested_list[row][col] == element:\n",
    "                return row, col\n",
    "    return None\n",
    "\n",
    "nested_list = [[4,7], [2,5,8], [1,0], [0, 8]]\n",
    "print(\"Nested List:\", nested_list)\n",
    "\n",
    "element = int(input(\"Enter the element to search for:\"))\n",
    "\n",
    "position = element_search(nested_list, element)\n",
    "\n",
    "if position:\n",
    "    row, col = position\n",
    "    print(f\"Element {element} found at position ({row}, {col})\")\n",
    "\n",
    "else:\n",
    "    print(f\"Element {element} is not found int the nested list\")"
   ]
  },
  {
   "cell_type": "markdown",
   "id": "04ee4e5c-18c5-4f7a-b371-db1cd9ed642f",
   "metadata": {},
   "source": [
    "<br>\n",
    "69. Duplicate Removal: Write a Python program that takes a list of elements as input and creates a new set containing only the unique elements from the list."
   ]
  },
  {
   "cell_type": "code",
   "execution_count": 114,
   "id": "02fd3ef9-9f72-4e3c-8ec6-6a54b0b303c5",
   "metadata": {},
   "outputs": [
    {
     "name": "stdin",
     "output_type": "stream",
     "text": [
      "Enter the elements of the list:  1 4 4 2 7 1 0 1\n"
     ]
    },
    {
     "name": "stdout",
     "output_type": "stream",
     "text": [
      "Set containing the unique elements from the list: {0, 1, 2, 4, 7}\n"
     ]
    }
   ],
   "source": [
    "def duplicate_removal(inp_list):\n",
    "    set_ = set(inp_list)\n",
    "    return set_\n",
    "\n",
    "inp_list = list(map(int, input(\"Enter the elements of the list: \").split()))\n",
    "set_ = duplicate_removal(inp_list)\n",
    "print(\"Set containing the unique elements from the list:\", set_)"
   ]
  },
  {
   "cell_type": "markdown",
   "id": "b273c133-540d-4b7f-94d1-afeea3ce3cc8",
   "metadata": {},
   "source": [
    "<br>\n",
    "70. Set Intersection: Given two sets A and B, write a Python program to find their intersection and print the common elements."
   ]
  },
  {
   "cell_type": "code",
   "execution_count": 115,
   "id": "a7d641c1-c68d-4bc2-9dcc-b8f4e78a623e",
   "metadata": {},
   "outputs": [
    {
     "name": "stdin",
     "output_type": "stream",
     "text": [
      "Enter the elements of the set A:  2 5 8\n",
      "Enter the elements of the set B:  4 7 2\n"
     ]
    },
    {
     "name": "stdout",
     "output_type": "stream",
     "text": [
      "Common elements between set A and set B: {'2'}\n"
     ]
    }
   ],
   "source": [
    "s1 = set(input(\"Enter the elements of the set A: \").split())\n",
    "s2 = set(input(\"Enter the elements of the set B: \").split())\n",
    "\n",
    "intersect = s1.intersection(s2)\n",
    "print(\"Common elements between set A and set B:\", intersect)"
   ]
  },
  {
   "cell_type": "markdown",
   "id": "120fd2d2-ddd6-4646-ad5c-7cf8315d4f34",
   "metadata": {},
   "source": [
    "<br>\n",
    "71. Set Union: Given two sets A and B, write a Python program to find their union and print all the distinct elements from both sets"
   ]
  },
  {
   "cell_type": "code",
   "execution_count": 116,
   "id": "bbe070a2-4e60-416c-bc27-cd5987848ff8",
   "metadata": {},
   "outputs": [
    {
     "name": "stdin",
     "output_type": "stream",
     "text": [
      "Enter the elements of the set A:  2 5 8\n",
      "Enter the elements of the set B:  4 7 2\n"
     ]
    },
    {
     "name": "stdout",
     "output_type": "stream",
     "text": [
      "Distinct elements between set A and set B: {'2', '8', '5', '7', '4'}\n"
     ]
    }
   ],
   "source": [
    "s1 = set(input(\"Enter the elements of the set A: \").split())\n",
    "s2 = set(input(\"Enter the elements of the set B: \").split())\n",
    "\n",
    "uni = s1.union(s2)\n",
    "print(\"Distinct elements between set A and set B:\", uni)"
   ]
  },
  {
   "cell_type": "markdown",
   "id": "81c3d11d-b921-4c39-b5dc-1fae7e7b291f",
   "metadata": {},
   "source": [
    "<br>\n",
    "72. Set Difference: Given two sets A and B, write a Python program to find the difference between set A and set B (i.e., elements present in A but not in B) and print the result."
   ]
  },
  {
   "cell_type": "code",
   "execution_count": 117,
   "id": "86d1a0f0-564b-4257-b1db-2bbc3ff4233c",
   "metadata": {},
   "outputs": [
    {
     "name": "stdin",
     "output_type": "stream",
     "text": [
      "Enter the elements of the set A:  2 5 0\n",
      "Enter the elements of the set B:  1 0 5\n"
     ]
    },
    {
     "name": "stdout",
     "output_type": "stream",
     "text": [
      "Differences between set A and set B: {'2'}\n"
     ]
    }
   ],
   "source": [
    "s1 = set(input(\"Enter the elements of the set A: \").split())\n",
    "s2 = set(input(\"Enter the elements of the set B: \").split())\n",
    "\n",
    "diff = s1.difference(s2)\n",
    "print(\"Differences between set A and set B:\", diff)"
   ]
  },
  {
   "cell_type": "markdown",
   "id": "f3908582-85ed-4949-b75d-6b1d324354fc",
   "metadata": {},
   "source": [
    "<br>\n",
    "73. Set Symmetric Difference: Given two sets A and B, write a Python program to find the symmetric difference between the two sets (i.e., elements that are present in either set A or set B, but not in both) and print the result."
   ]
  },
  {
   "cell_type": "code",
   "execution_count": 118,
   "id": "3daf25ab-2886-4bfa-9305-290f5603f02c",
   "metadata": {},
   "outputs": [
    {
     "name": "stdin",
     "output_type": "stream",
     "text": [
      "Enter the elements of the set A:  2 5 8\n",
      "Enter the elements of the set B:  5 4 1\n"
     ]
    },
    {
     "name": "stdout",
     "output_type": "stream",
     "text": [
      "Symmetric Differences: {'2', '8', '1', '4'}\n"
     ]
    }
   ],
   "source": [
    "s1 = set(input(\"Enter the elements of the set A: \").split())\n",
    "s2 = set(input(\"Enter the elements of the set B: \").split())\n",
    "\n",
    "sym_diff = s1.symmetric_difference(s2)\n",
    "print(\"Symmetric Differences:\", sym_diff)"
   ]
  },
  {
   "cell_type": "markdown",
   "id": "4cebc943-7c0c-4082-b2f0-72d53ed6b80c",
   "metadata": {},
   "source": [
    "<br>\n",
    "74. Set Operations: Given three sets A, B, and C, write a Python program to find and print the intersection of A and B, the union of B and C, and the difference between C and A."
   ]
  },
  {
   "cell_type": "code",
   "execution_count": 119,
   "id": "5299a10c-d9fa-41ae-91b0-ac052e7bb205",
   "metadata": {},
   "outputs": [
    {
     "name": "stdin",
     "output_type": "stream",
     "text": [
      "Enter the elements of the set A:  1 2 0 5\n",
      "Enter the elements of the set B:  0 7 4 1\n",
      "Enter the elements of the set C:  1 1 1 1\n"
     ]
    },
    {
     "name": "stdout",
     "output_type": "stream",
     "text": [
      "Intersection between {'0', '5', '1', '2'} and {'0', '1', '4', '7'}: {'0', '1'}\n",
      "Uninon between {'0', '1', '4', '7'} and {'1'}: {'1', '0', '4', '7'}\n",
      "Difference between {'1'} and {'0', '5', '1', '2'}: set()\n"
     ]
    }
   ],
   "source": [
    "def set_operations(a, b, c):\n",
    "    intersect = a.intersection(b)\n",
    "    uni = b.union(c)\n",
    "    diff = c.difference(a)\n",
    "    return intersect, uni, diff\n",
    "s1 = set(input(\"Enter the elements of the set A: \").split())\n",
    "s2 = set(input(\"Enter the elements of the set B: \").split())\n",
    "s3 = set(input(\"Enter the elements of the set C: \").split())\n",
    "\n",
    "intersect, uni, diff = set_operations(s1, s2, s3)\n",
    "print(f\"Intersection between {s1} and {s2}:\", intersect)\n",
    "print(f\"Uninon between {s2} and {s3}:\", uni)\n",
    "print(f\"Difference between {s3} and {s1}:\", diff)"
   ]
  },
  {
   "cell_type": "markdown",
   "id": "2f940542-6eb1-4edd-9445-28d33a7e914b",
   "metadata": {},
   "source": [
    "<br>\n",
    "75. Set Subset Check: Given two sets A and B, write a Python program to check if set A is a subset of set B and print the result."
   ]
  },
  {
   "cell_type": "code",
   "execution_count": 121,
   "id": "86cd1f69-a720-488a-8ca9-cf18f507b93c",
   "metadata": {},
   "outputs": [
    {
     "name": "stdin",
     "output_type": "stream",
     "text": [
      "Enter the elements of the set A:  0 5\n",
      "Enter the elements of the set B:  5 1 0 2\n"
     ]
    },
    {
     "name": "stdout",
     "output_type": "stream",
     "text": [
      "set A is a subset of set B\n"
     ]
    }
   ],
   "source": [
    "s1 = set(input(\"Enter the elements of the set A: \").split())\n",
    "s2 = set(input(\"Enter the elements of the set B: \").split())\n",
    "\n",
    "is_subset = s1.issubset(s2)\n",
    "\n",
    "if is_subset:\n",
    "    print(\"set A is a subset of set B\")\n",
    "\n",
    "else:\n",
    "    print(\"set A is not a subset of set B\")"
   ]
  },
  {
   "cell_type": "markdown",
   "id": "16925f7d-60d3-435b-80a8-7cf3610ba04b",
   "metadata": {},
   "source": [
    "<br>\n",
    "76. Set Superset Check: Given two sets A and B, write a Python program to check if set A is a superset of set B and print the result."
   ]
  },
  {
   "cell_type": "code",
   "execution_count": 123,
   "id": "7bae846b-6f2c-4895-8cc9-138737b2a089",
   "metadata": {},
   "outputs": [
    {
     "name": "stdin",
     "output_type": "stream",
     "text": [
      "Enter the elements of the set A:  5 1 0 2\n",
      "Enter the elements of the set B:  0 5\n"
     ]
    },
    {
     "name": "stdout",
     "output_type": "stream",
     "text": [
      "set A is a superset of set B\n"
     ]
    }
   ],
   "source": [
    "s1 = set(input(\"Enter the elements of the set A: \").split())\n",
    "s2 = set(input(\"Enter the elements of the set B: \").split())\n",
    "\n",
    "is_superset = s1.issuperset(s2)\n",
    "\n",
    "if is_superset:\n",
    "    print(\"set A is a superset of set B\")\n",
    "\n",
    "else:\n",
    "    print(\"set A is not a superset of set B\")"
   ]
  },
  {
   "cell_type": "markdown",
   "id": "cbab6f72-b470-4371-957c-bbfa7f03e865",
   "metadata": {},
   "source": [
    "<br>\n",
    "77. Set Length Check: Write a Python program that takes a set as input and prints the number of elements in the set."
   ]
  },
  {
   "cell_type": "code",
   "execution_count": 124,
   "id": "4b83c449-e3bc-4c86-8b3f-1dc929c9bb77",
   "metadata": {},
   "outputs": [
    {
     "name": "stdin",
     "output_type": "stream",
     "text": [
      "Enter the elements of the set:  1 5 7 8 8 1 2\n"
     ]
    },
    {
     "name": "stdout",
     "output_type": "stream",
     "text": [
      "Number of elements in the set 5\n"
     ]
    }
   ],
   "source": [
    "set_ = set(input(\"Enter the elements of the set: \").split())\n",
    "print (\"Number of elements in the set\", len(set_))"
   ]
  },
  {
   "cell_type": "markdown",
   "id": "04cbb8d4-6b51-4633-93c1-3be998947666",
   "metadata": {},
   "source": [
    "76. Set Membership Test: Write a Python program that takes an element as input and checks if it exists in a given set. Print “Found” if the element is present and “Not Found” otherwise."
   ]
  },
  {
   "cell_type": "code",
   "execution_count": 125,
   "id": "d63ffc63-6675-4ca3-ae98-94020a5ea03e",
   "metadata": {},
   "outputs": [
    {
     "name": "stdin",
     "output_type": "stream",
     "text": [
      "Enter the elements of the set:  0 7 3 1 2\n",
      "Enter the element to search for: 3\n"
     ]
    },
    {
     "name": "stdout",
     "output_type": "stream",
     "text": [
      "Found\n"
     ]
    }
   ],
   "source": [
    "def membership(set_, element):\n",
    "    if element in set_:\n",
    "        print(\"Found\")\n",
    "              \n",
    "    else:\n",
    "        print(\"Not Found\")\n",
    "set_ = set(input(\"Enter the elements of the set: \").split())\n",
    "element = input(\"Enter the element to search for:\")\n",
    "membership(set_, element)"
   ]
  },
  {
   "cell_type": "markdown",
   "id": "612fa530-ba28-42e3-a3f1-29262feddeab",
   "metadata": {},
   "source": [
    "<br>\n",
    "77. Dictionary Manipulation: Given a dictionary with student names as keys and their corresponding scores as values, write a Python program to add a new student to the dictionary and update the score of an existing student."
   ]
  },
  {
   "cell_type": "code",
   "execution_count": 126,
   "id": "58b71ab3-2a60-45f9-a8ab-200039e22b25",
   "metadata": {},
   "outputs": [
    {
     "name": "stdout",
     "output_type": "stream",
     "text": [
      "Current Student Scores: {'Shusmita': 95, 'Anjum': 99, 'Aziz': 94}\n",
      "New student named Sky with score 97\n",
      "Updated score of Aziz is 100\n",
      "Updated Student Scores: {'Shusmita': 95, 'Anjum': 99, 'Aziz': 100, 'Sky': 97}\n"
     ]
    }
   ],
   "source": [
    "def scores(std_dict, std_name, std_score):\n",
    "    if std_name in std_dict:\n",
    "        std_dict[std_name] = std_score\n",
    "        print(f\"Updated score of {std_name} is {std_score}\")\n",
    "\n",
    "    else:\n",
    "        std_dict[std_name] = std_score\n",
    "        print(f\"New student named {std_name} with score {std_score}\")\n",
    "\n",
    "student = {\n",
    "    \"Shusmita\" : 95,\n",
    "    \"Anjum\" : 99,\n",
    "    \"Aziz\" : 94\n",
    "}\n",
    "\n",
    "print(\"Current Student Scores:\", student)\n",
    "\n",
    "scores(student, \"Sky\", 97)\n",
    "scores(student, \"Aziz\", 100)\n",
    "\n",
    "print(\"Updated Student Scores:\", student)"
   ]
  },
  {
   "cell_type": "markdown",
   "id": "d2d7646b-2461-4626-87b0-f2eb6e2d0798",
   "metadata": {},
   "source": [
    "<br>\n",
    "78. Dictionary Keys and Values: Write a Python program that takes a dictionary as input and prints all the keys and values in separate lines."
   ]
  },
  {
   "cell_type": "code",
   "execution_count": 127,
   "id": "77088073-0936-4158-a699-9075d52b557d",
   "metadata": {},
   "outputs": [
    {
     "name": "stdin",
     "output_type": "stream",
     "text": [
      "Enter a key(write done to finish): A\n",
      "Enter corresponding value: 1\n",
      "Enter a key(write done to finish): B\n",
      "Enter corresponding value: 2\n",
      "Enter a key(write done to finish): C\n",
      "Enter corresponding value: 3\n",
      "Enter a key(write done to finish): D\n",
      "Enter corresponding value: 4\n",
      "Enter a key(write done to finish): done\n"
     ]
    },
    {
     "name": "stdout",
     "output_type": "stream",
     "text": [
      "Dictionary\n",
      "{'A': '1', 'B': '2', 'C': '3', 'D': '4'}\n",
      "Keys:\n",
      "A B C D \n",
      "Values\n",
      "1 2 3 4 "
     ]
    }
   ],
   "source": [
    "def create_dict():\n",
    "    dict_ = {}\n",
    "    while True:\n",
    "        key = input(\"Enter a key(write done to finish):\")\n",
    "        if key.lower() == 'done':\n",
    "            break\n",
    "        value = input (\"Enter corresponding value:\")\n",
    "        dict_[key] = value\n",
    "    return dict_\n",
    "\n",
    "def print_dict(dict_):\n",
    "    print(\"Keys:\")\n",
    "    for key in dict_:\n",
    "        print(key, end=' ')\n",
    "\n",
    "    print(\"\\nValues\")\n",
    "    for key in dict_:\n",
    "        print(dict_[key], end=' ')\n",
    "\n",
    "dict_ = create_dict()\n",
    "print(\"Dictionary\")\n",
    "print(dict_)\n",
    "print_dict(dict_)"
   ]
  },
  {
   "cell_type": "markdown",
   "id": "fb9dd7c8-1ed1-40e5-b065-af342e8b6bb8",
   "metadata": {},
   "source": [
    "<br>\n",
    "79. Dictionary Length: Write a Python program to calculate and print the number of key-value pairs in a given dictionary."
   ]
  },
  {
   "cell_type": "code",
   "execution_count": 128,
   "id": "e39ded1c-71f5-45da-90da-ce1b377b3914",
   "metadata": {},
   "outputs": [
    {
     "name": "stdout",
     "output_type": "stream",
     "text": [
      "Dictionary\n",
      "{'Shusmita': 23, 'Anjum': 24, 'Aziz': 25}\n",
      "Number of key-value pairs in the dictonary: 3\n"
     ]
    }
   ],
   "source": [
    "dict_ = {\n",
    "    \"Shusmita\" : 23,\n",
    "    \"Anjum\" : 24,\n",
    "    \"Aziz\" : 25\n",
    "}\n",
    "\n",
    "print(\"Dictionary\")\n",
    "print(dict_)\n",
    "\n",
    "print(\"Number of key-value pairs in the dictonary:\", len(dict_))"
   ]
  },
  {
   "cell_type": "markdown",
   "id": "3543294e-b280-4d08-90fd-f6846bc92f3e",
   "metadata": {},
   "source": [
    "<br>\n",
    "80. Dictionary Value Search: Given a dictionary of items and their prices, write a Python program to search for an item based on its price and print the item’s name."
   ]
  },
  {
   "cell_type": "code",
   "execution_count": 130,
   "id": "8c43b7ce-c315-4f16-ba46-b598b587b21a",
   "metadata": {},
   "outputs": [
    {
     "name": "stdout",
     "output_type": "stream",
     "text": [
      "Items and their prices:\n",
      "Pen: $1.5\n",
      "Pencil: $1.25\n",
      "Eraser: $0.75\n",
      "Notebook: $4.0\n"
     ]
    },
    {
     "name": "stdin",
     "output_type": "stream",
     "text": [
      "Enter the price to search the item: 4\n"
     ]
    },
    {
     "name": "stdout",
     "output_type": "stream",
     "text": [
      "The item with price $4.0 is Notebook\n"
     ]
    }
   ],
   "source": [
    "def search(products, searched_price):\n",
    "    for item_, price in products.items():\n",
    "        if price == searched_price:\n",
    "            return item_\n",
    "\n",
    "    return None\n",
    "\n",
    "products = {\n",
    "    \"Pen\" : 1.50,\n",
    "    \"Pencil\" : 1.25,\n",
    "    \"Eraser\" : 0.75,\n",
    "    \"Notebook\" : 4.00\n",
    "}\n",
    "\n",
    "print(\"Items and their prices:\")\n",
    "for item_, price in products.items():\n",
    "    print(f\"{item_}: ${price}\")\n",
    "\n",
    "searched_price = float(input(\"Enter the price to search the item:\"))\n",
    "\n",
    "item_found = search(products, searched_price)\n",
    "\n",
    "if item_found:\n",
    "    print(f\"The item with price ${searched_price} is {item_found}\")\n",
    "\n",
    "else:\n",
    "    print(f\"No item found in ${searched_price}\")"
   ]
  },
  {
   "cell_type": "code",
   "execution_count": 131,
   "id": "a2ef5133-d589-49b8-b388-4edfd11c4385",
   "metadata": {},
   "outputs": [
    {
     "name": "stdout",
     "output_type": "stream",
     "text": [
      "Dictionary 1: {'A': 4, 'B': 7}\n",
      "Dictionary 2: {'C': 8, 'D': 8}\n",
      "Merged Dictionary: {'A': 4, 'B': 7, 'C': 8, 'D': 8}\n"
     ]
    }
   ],
   "source": [
    "def merge_dict(dict1, dict2):\n",
    "    merged_dict = {}\n",
    "\n",
    "    for key in dict1:\n",
    "        merged_dict[key] = dict1[key]\n",
    "\n",
    "    for key in dict2:\n",
    "        merged_dict[key] = dict2[key]\n",
    "\n",
    "    return merged_dict\n",
    "\n",
    "dict1 = {'A':4, 'B':7}\n",
    "dict2 = {'C':8, 'D':8}\n",
    "\n",
    "print(\"Dictionary 1:\", dict1)\n",
    "print(\"Dictionary 2:\", dict2)\n",
    "\n",
    "merged_dict = merge_dict(dict1, dict2)\n",
    "\n",
    "print(\"Merged Dictionary:\", merged_dict)"
   ]
  },
  {
   "cell_type": "markdown",
   "id": "2c14e592-3beb-47e9-b379-c18bb0f3f1ed",
   "metadata": {},
   "source": [
    "<br>\n",
    "82. Dictionary Key Removal: Given a dictionary of items and their quantities, write a Python program to remove a specific item from the dictionary based on user input."
   ]
  },
  {
   "cell_type": "code",
   "execution_count": 133,
   "id": "e5f975f8-5000-49f5-8a01-60f82bb23a88",
   "metadata": {},
   "outputs": [
    {
     "name": "stdout",
     "output_type": "stream",
     "text": [
      "\n",
      "Current Dictonary:\n",
      "pen: 4\n",
      "pencil: 7\n",
      "eraser: 2\n",
      "notebook: 5\n",
      "\n",
      "\n"
     ]
    },
    {
     "name": "stdin",
     "output_type": "stream",
     "text": [
      "Enter the item to be removed: pen\n"
     ]
    },
    {
     "name": "stdout",
     "output_type": "stream",
     "text": [
      "\n",
      "\n",
      "Item pen removed from the dictionary\n",
      "\n",
      "Updated Dictonary:\n",
      "pencil: 7\n",
      "eraser: 2\n",
      "notebook: 5\n"
     ]
    }
   ],
   "source": [
    "def remove(dict_, item_):\n",
    "    if item_ in dict_:\n",
    "        del dict_[item_]\n",
    "        print(f\"Item {item_} removed from the dictionary\")\n",
    "\n",
    "    else:\n",
    "        print(f\"Item {item_} not exist in the dictonary\")\n",
    "\n",
    "products = {\n",
    "    \"pen\" : 4,\n",
    "    \"pencil\" : 7,\n",
    "    \"eraser\" : 2,\n",
    "    \"notebook\" : 5\n",
    "}\n",
    "\n",
    "print(\"\\nCurrent Dictonary:\")\n",
    "for item_, quantity in products.items():\n",
    "    print(f\"{item_}: {quantity}\")\n",
    "\n",
    "print(\"\\n\")\n",
    "removed_item = input(\"Enter the item to be removed:\").lower()\n",
    "print(\"\\n\")\n",
    "\n",
    "remove(products, removed_item)\n",
    "\n",
    "print(\"\\nUpdated Dictonary:\")\n",
    "for item_, quantity in products.items():\n",
    "    print(f\"{item_}: {quantity}\")"
   ]
  },
  {
   "cell_type": "markdown",
   "id": "6e3ef721-d439-4d04-afa2-8aabe63cd62e",
   "metadata": {},
   "source": [
    "<br>\n",
    "83. Dictionary Sorting: Given a dictionary with names as keys and corresponding ages as values, write a Python program to sort the dictionary based on age in ascending order."
   ]
  },
  {
   "cell_type": "code",
   "execution_count": 134,
   "id": "fb08178e-2b53-4777-a160-d5fd4d77651f",
   "metadata": {},
   "outputs": [
    {
     "name": "stdout",
     "output_type": "stream",
     "text": [
      "Dictionary\n",
      "Shusmita: 24\n",
      "Anjum: 23\n",
      "Aziz: 25\n",
      "\n",
      "Sorted Dictionary\n",
      "Anjum: 23\n",
      "Shusmita: 24\n",
      "Aziz: 25\n"
     ]
    }
   ],
   "source": [
    "def sort_dict(dict_):\n",
    "    dict_list = list(dict_.items())\n",
    "\n",
    "    dict_list.sort(key = lambda item_: item_[1])\n",
    "\n",
    "    sorted_dict = {}\n",
    "    for item_ in dict_list:\n",
    "        sorted_dict[item_[0]] = item_[1]\n",
    "\n",
    "    return sorted_dict\n",
    "\n",
    "dict_ = {\n",
    "    \"Shusmita\" : 24,\n",
    "    \"Anjum\" : 23,\n",
    "    \"Aziz\" : 25\n",
    "}\n",
    "\n",
    "print(\"Dictionary\")\n",
    "for name, age in dict_.items():\n",
    "    print(f\"{name}: {age}\")\n",
    "\n",
    "sorted_dict = sort_dict(dict_)\n",
    "\n",
    "print(\"\\nSorted Dictionary\")\n",
    "for name, age in sorted_dict.items():\n",
    "    print(f\"{name}: {age}\")"
   ]
  },
  {
   "cell_type": "markdown",
   "id": "0fab547e-e31a-4fd1-917a-7a7d4967b23f",
   "metadata": {},
   "source": [
    "<br>\n",
    "84. Dictionary Frequency Count: Write a Python program that takes a string as input and creates a dictionary containing each character as a key and its frequency as the value."
   ]
  },
  {
   "cell_type": "code",
   "execution_count": 135,
   "id": "56dcf458-5f8e-4bc9-a7fa-393497b6f84b",
   "metadata": {},
   "outputs": [
    {
     "name": "stdin",
     "output_type": "stream",
     "text": [
      "Enter a string: velvet\n"
     ]
    },
    {
     "name": "stdout",
     "output_type": "stream",
     "text": [
      "Frequency Dictonary\n",
      "v: 2\n",
      "e: 2\n",
      "l: 1\n",
      "t: 1\n"
     ]
    }
   ],
   "source": [
    "def frequency_dictonary(s):\n",
    "    freq_dict = {}\n",
    "    for char in s:\n",
    "        if char in freq_dict:\n",
    "            freq_dict[char] += 1\n",
    "\n",
    "        else:\n",
    "            freq_dict[char] = 1\n",
    "\n",
    "    return freq_dict\n",
    "\n",
    "inp_string = input(\"Enter a string:\")\n",
    "freq_dict = frequency_dictonary(inp_string)\n",
    "\n",
    "print(\"Frequency Dictonary\")\n",
    "for char, count in freq_dict.items():\n",
    "    print(f\"{char}: {count}\")"
   ]
  },
  {
   "cell_type": "markdown",
   "id": "8aa780fb-cf1b-47c6-9e7e-0d6a7c52f9f8",
   "metadata": {},
   "source": [
    "<br>\n",
    "85. Dictionary Comprehension: Given a list of integers, write a Python program to create a dictionary where the keys are the elements from the list, and the values are their squares."
   ]
  },
  {
   "cell_type": "code",
   "execution_count": 136,
   "id": "b74c030c-f87a-4b2d-8755-68ba7697b71a",
   "metadata": {},
   "outputs": [
    {
     "name": "stdin",
     "output_type": "stream",
     "text": [
      "Enter the elements of the list:  1 2 3 4\n"
     ]
    },
    {
     "name": "stdout",
     "output_type": "stream",
     "text": [
      "Squared Dictonary:\n",
      "1: 1\n",
      "2: 4\n",
      "3: 9\n",
      "4: 16\n"
     ]
    }
   ],
   "source": [
    "def squared_dictonary(list_):\n",
    "    square_dict = {i: i**2 for i in list_}\n",
    "    return square_dict\n",
    "\n",
    "list_ = list(map(int, input(\"Enter the elements of the list: \").split()))\n",
    "square_dict = squared_dictonary(list_)\n",
    "\n",
    "print(\"Squared Dictonary:\")\n",
    "for key, value in square_dict.items():\n",
    "    print(f\"{key}: {value}\")"
   ]
  },
  {
   "cell_type": "markdown",
   "id": "1e18ed8a-835e-4684-b9dd-23e942567f19",
   "metadata": {},
   "source": [
    "86. Dictionary Key Check: Write a Python program that takes a key as input and checks if it exists in a given dictionary. Print “Key Found” if the key is present and “Key Not Found” otherwise."
   ]
  },
  {
   "cell_type": "code",
   "execution_count": 137,
   "id": "2e93a5f6-e37a-471e-85de-922f64470dbc",
   "metadata": {},
   "outputs": [
    {
     "name": "stdin",
     "output_type": "stream",
     "text": [
      "Enter the key to check V\n"
     ]
    },
    {
     "name": "stdout",
     "output_type": "stream",
     "text": [
      "Key Found\n"
     ]
    }
   ],
   "source": [
    "def key_existance(dict_, key):\n",
    "    if key in dict_:\n",
    "        print(\"Key Found\")\n",
    "\n",
    "    else:\n",
    "        print(\"Key Not Found\")\n",
    "\n",
    "dict_ = {\n",
    "    \"C\" : 4,\n",
    "    \"T\" : 7,\n",
    "    \"V\" : 8,\n",
    "    \"S\" : 5\n",
    "}\n",
    "\n",
    "key = input(\"Enter the key to check\")\n",
    "key_existance(dict_, key)"
   ]
  },
  {
   "cell_type": "markdown",
   "id": "869294c0-dc7d-4fef-af1d-ce72164299e1",
   "metadata": {},
   "source": [
    "<br>\n",
    "87. Access Nested Dictionary: Given a nested dictionary containing student details, write a Python program to access and print specific information such as a student’s name, age, and address."
   ]
  },
  {
   "cell_type": "code",
   "execution_count": 140,
   "id": "541c6a8a-1bff-49b7-9ba3-9ba865509060",
   "metadata": {},
   "outputs": [
    {
     "name": "stdin",
     "output_type": "stream",
     "text": [
      "Enter student ID: s2\n"
     ]
    },
    {
     "name": "stdout",
     "output_type": "stream",
     "text": [
      "Name: Anjum\n",
      "Age: 23\n",
      "Address: Dhaka\n"
     ]
    }
   ],
   "source": [
    "def access_info(students, id):\n",
    "    if id in students:\n",
    "        info = students[id]\n",
    "        print(f\"Name: {info['name']}\")\n",
    "        print(f\"Age: {info['age']}\")\n",
    "        print(f\"Address: {info['address']}\")\n",
    "\n",
    "    else:\n",
    "        print(\"No student found\")\n",
    "\n",
    "students = {\n",
    "    \"s1\" : {\n",
    "        \"name\" : \"Shusmita\",\n",
    "        \"age\" : 24,\n",
    "        \"address\" : \"Rome\"\n",
    "    },\n",
    "\n",
    "    \"s2\" : {\n",
    "        \"name\" : \"Anjum\",\n",
    "        \"age\" : 23,\n",
    "        \"address\" : \"Dhaka\"\n",
    "    },\n",
    "\n",
    "    \"s3\" : {\n",
    "        \"name\" : \"Aziz\",\n",
    "        \"age\" : 25,\n",
    "        \"address\" : \"Chicago\"\n",
    "    },\n",
    "}\n",
    "\n",
    "id = input(\"Enter student ID:\")\n",
    "access_info(students, id)"
   ]
  },
  {
   "cell_type": "markdown",
   "id": "b9a202ce-1e13-4b6a-aa38-874450cf03db",
   "metadata": {},
   "source": [
    "<br>\n",
    "88. Nested Dictionary Length: Write a Python program to calculate and print the total number of key-value pairs in a nested dictionary."
   ]
  },
  {
   "cell_type": "code",
   "execution_count": 141,
   "id": "ca394ae0-0154-4a19-a4ea-6d10d2c9f14b",
   "metadata": {},
   "outputs": [
    {
     "name": "stdout",
     "output_type": "stream",
     "text": [
      "Total number of key-value pairs in the nested dictionary: 9\n"
     ]
    }
   ],
   "source": [
    "def length_(nested_dict):\n",
    "    count = 0\n",
    "    for key in nested_dict:\n",
    "        count += 1\n",
    "        if type(nested_dict[key]) == dict:\n",
    "            count += length_(nested_dict[key])\n",
    "    return count\n",
    "nested_dict = {\n",
    "    \"A\" : {\n",
    "        \"a1\" : 11,\n",
    "        \"a2\" : 22\n",
    "    },\n",
    "\n",
    "    \"B\" : {\n",
    "        \"b1\" : 33,\n",
    "        \"b2\" : 44\n",
    "    },\n",
    "\n",
    "    \"C\" : {\n",
    "        \"c1\" : 55,\n",
    "        \"c2\" : 66\n",
    "    }\n",
    "}\n",
    "\n",
    "count = length_(nested_dict)\n",
    "print(\"Total number of key-value pairs in the nested dictionary:\", count)"
   ]
  },
  {
   "cell_type": "markdown",
   "id": "32d13865-adfa-47c1-a258-51c8a1868235",
   "metadata": {},
   "source": [
    "<br>\n",
    "89. Nested Dictionary Update: Given a nested dictionary of employee details, write a Python program to update an employee’s salary based on their employee ID."
   ]
  },
  {
   "cell_type": "code",
   "execution_count": 144,
   "id": "182465ba-4e9c-41eb-b9ea-12206896e825",
   "metadata": {},
   "outputs": [
    {
     "name": "stdout",
     "output_type": "stream",
     "text": [
      "Employee Details:\n",
      "ID: e1, Details: {'name': 'Shusmita', 'age': 24, 'salary': 70000}\n",
      "ID: e2, Details: {'name': 'Anjum', 'age': 23, 'salary': 50000}\n",
      "ID: e3, Details: {'name': 'Aziz', 'age': 25, 'salary': 140000}\n"
     ]
    },
    {
     "name": "stdin",
     "output_type": "stream",
     "text": [
      "Enter the employee ID: e1\n",
      "Enter the new salary 80000\n"
     ]
    },
    {
     "name": "stdout",
     "output_type": "stream",
     "text": [
      "Salary updated for employee ID: e1\n",
      "\n",
      " Employee Details after update:\n",
      "ID: e1, Details: {'name': 'Shusmita', 'age': 24, 'salary': 80000.0}\n",
      "ID: e2, Details: {'name': 'Anjum', 'age': 23, 'salary': 50000}\n",
      "ID: e3, Details: {'name': 'Aziz', 'age': 25, 'salary': 140000}\n"
     ]
    }
   ],
   "source": [
    "def update_salary(emp_dict, emp_id, new_salary):\n",
    "    if emp_id in emp_dict:\n",
    "        emp_dict[emp_id]['salary'] = new_salary\n",
    "        print(f\"Salary updated for employee ID: {emp_id}\")\n",
    "\n",
    "    else:\n",
    "        print(f\"Employee ID: {emp_id} not found\")\n",
    "\n",
    "employees = {\n",
    "    \"e1\" : {\n",
    "        \"name\" : \"Shusmita\",\n",
    "        \"age\" : 24,\n",
    "        \"salary\" : 70000\n",
    "    },\n",
    "\n",
    "    \"e2\" : {\n",
    "        \"name\" : \"Anjum\",\n",
    "        \"age\" : 23,\n",
    "        \"salary\" : 50000\n",
    "    },\n",
    "\n",
    "    \"e3\" : {\n",
    "        \"name\" : \"Aziz\",\n",
    "        \"age\" : 25,\n",
    "        \"salary\" : 140000\n",
    "    },\n",
    "}\n",
    "\n",
    "print(\"Employee Details:\")\n",
    "for id, details in employees.items():\n",
    "    print(f\"ID: {id}, Details: {details}\")\n",
    "\n",
    "emp_id = input(\"Enter the employee ID:\")\n",
    "new_salary = float(input(\"Enter the new salary\"))\n",
    "\n",
    "up_sal = update_salary(employees, emp_id, new_salary)\n",
    "\n",
    "print(\"\\n Employee Details after update:\")\n",
    "for id, details in employees.items():\n",
    "    print(f\"ID: {id}, Details: {details}\")"
   ]
  },
  {
   "cell_type": "markdown",
   "id": "466408d4-87dc-4d70-9546-4caa10cbbea9",
   "metadata": {},
   "source": [
    "<br>\n",
    "90. Nested Dictionary Sorting: Given a nested dictionary containing product details (product name, price, and quantity), write a Python program to sort the products based on their prices in ascending order."
   ]
  },
  {
   "cell_type": "code",
   "execution_count": 145,
   "id": "ee2f630d-18a7-4acb-80fa-ab1a49cc8e10",
   "metadata": {},
   "outputs": [
    {
     "name": "stdout",
     "output_type": "stream",
     "text": [
      "Products before sort:\n",
      "ID: p1, Details: {'name': 'pen', 'price': 1.5, 'quantity': 5}\n",
      "ID: p2, Details: {'name': 'pencil', 'price': 1.0, 'quantity': 8}\n",
      "ID: p3, Details: {'name': 'eraser', 'price': 0.75, 'quantity': 2}\n",
      "\n",
      "Products after sort:\n",
      "ID: p3, Details: {'name': 'eraser', 'price': 0.75, 'quantity': 2}\n",
      "ID: p2, Details: {'name': 'pencil', 'price': 1.0, 'quantity': 8}\n",
      "ID: p1, Details: {'name': 'pen', 'price': 1.5, 'quantity': 5}\n"
     ]
    }
   ],
   "source": [
    "def sort_products(products):\n",
    "    sorted_products = sorted(products.items(), key = lambda item_: item_[1]['price'])\n",
    "    return dict(sorted_products)\n",
    "\n",
    "products ={\n",
    "    \"p1\" : {\n",
    "        'name' : 'pen',\n",
    "        'price' : 1.50,\n",
    "        'quantity' : 5\n",
    "    },\n",
    "\n",
    "    \"p2\" : {\n",
    "        'name' : 'pencil',\n",
    "        'price' : 1.0,\n",
    "        'quantity' : 8\n",
    "    },\n",
    "\n",
    "    \"p3\" : {\n",
    "        'name' : 'eraser',\n",
    "        'price' : 0.75,\n",
    "        'quantity' : 2\n",
    "    }\n",
    "}\n",
    "\n",
    "print(\"Products before sort:\")\n",
    "for id, details in products.items():\n",
    "    print(f\"ID: {id}, Details: {details}\")\n",
    "\n",
    "sorted_products = sort_products(products)\n",
    "print(\"\\nProducts after sort:\")\n",
    "for id, details in sorted_products.items():\n",
    "    print(f\"ID: {id}, Details: {details}\")"
   ]
  },
  {
   "cell_type": "markdown",
   "id": "d63e3302-cdd1-421e-932a-5385c79f1f07",
   "metadata": {},
   "source": [
    "<br>\n",
    "91. Nested Dictionary Key Search: Write a Python program that takes a key as input and searches for it in a nested dictionary. If found, print the corresponding value, otherwise, print “Key Not Found.”"
   ]
  },
  {
   "cell_type": "code",
   "execution_count": 147,
   "id": "996ed1c6-7cfe-4cab-b366-0491b32bc3e8",
   "metadata": {},
   "outputs": [
    {
     "name": "stdin",
     "output_type": "stream",
     "text": [
      "Enter the key to search c1\n"
     ]
    },
    {
     "name": "stdout",
     "output_type": "stream",
     "text": [
      "Value for the key c1: 55\n"
     ]
    }
   ],
   "source": [
    "def nested_dictonary_search(nested_dict, k):\n",
    "    if k in nested_dict:\n",
    "        return nested_dict[k]\n",
    "\n",
    "    for key,value in nested_dict.items():\n",
    "        if type(value) == dict:\n",
    "            flag = nested_dictonary_search(value, k)\n",
    "            if flag is not None:\n",
    "                return flag\n",
    "\n",
    "    return None\n",
    "\n",
    "nested_dict = {\n",
    "    \"A\" : {\n",
    "        \"a1\" : 11,\n",
    "        \"a2\" : 22,\n",
    "    },\n",
    "\n",
    "    \"B\" : {\n",
    "        \"b1\" : 33,\n",
    "        \"b2\" : 44,\n",
    "    },\n",
    "\n",
    "    \"C\" : {\n",
    "        \"c1\" : 55,\n",
    "        \"c2\" : 66,\n",
    "    },\n",
    "}\n",
    "\n",
    "k = input(\"Enter the key to search\")\n",
    "\n",
    "flag = nested_dictonary_search(nested_dict, k)\n",
    "if flag is not None:\n",
    "    print(f\"Value for the key {k}: {flag}\")\n",
    "\n",
    "else:\n",
    "    print(f\"Key {k} not found in the nested dictonary\")"
   ]
  },
  {
   "cell_type": "markdown",
   "id": "32880780-446b-4e21-9567-321e24c255b9",
   "metadata": {},
   "source": [
    "<br>\n",
    "92. Prime Number Checker: Write a Python program that takes a number as input and determines if it is a prime number or not. Use a `for` loop to check for factors. If a factor is found, `break` out of the loop.\n",
    "\n"
   ]
  },
  {
   "cell_type": "code",
   "execution_count": 153,
   "id": "e70ba018-e496-41b3-ae1e-c5e8dcfa55ee",
   "metadata": {},
   "outputs": [
    {
     "name": "stdin",
     "output_type": "stream",
     "text": [
      "Enter a number:  5\n"
     ]
    },
    {
     "name": "stdout",
     "output_type": "stream",
     "text": [
      "Prime\n"
     ]
    }
   ],
   "source": [
    "def is_prime(n):\n",
    "    if n<=1:\n",
    "        return False\n",
    "\n",
    "    for i in range(2, int(n**0.5)+1):\n",
    "        if n == 2:\n",
    "            return True\n",
    "\n",
    "        if n%i == 0:\n",
    "            return False\n",
    "\n",
    "    return True\n",
    "\n",
    "n = int(input(\"Enter a number: \"))\n",
    "if is_prime(n):\n",
    "    print(\"Prime\")\n",
    "\n",
    "else:\n",
    "    print(\"Not Prime\")"
   ]
  },
  {
   "cell_type": "markdown",
   "id": "cd484952-ea3f-4cfc-a999-20e5bd8b8e8f",
   "metadata": {},
   "source": [
    "<br>\n",
    "93. Even Number Printer: Write a Python program to print all even numbers from 1 to 20. Use a `for` loop and `continue` to skip odd numbers."
   ]
  },
  {
   "cell_type": "code",
   "execution_count": 154,
   "id": "f8b3a525-d681-4429-bb61-8754ceac12e9",
   "metadata": {},
   "outputs": [
    {
     "name": "stdout",
     "output_type": "stream",
     "text": [
      "2\n",
      "4\n",
      "6\n",
      "8\n",
      "10\n",
      "12\n",
      "14\n",
      "16\n",
      "18\n",
      "20\n"
     ]
    }
   ],
   "source": [
    "for i in range(1, 21):\n",
    "    if i%2 != 0:\n",
    "        continue\n",
    "\n",
    "    else:\n",
    "        print(i)"
   ]
  },
  {
   "cell_type": "markdown",
   "id": "7e95ff70-4174-4c71-808b-a0f09d5c5f35",
   "metadata": {},
   "source": [
    "<br>\n",
    "94. Password Validator: Write a Python program that takes a password as input and checks if it meets the following criteria: at least 8 characters long, contains both uppercase and lowercase letters, and has at least one digit. If the password is valid, print “Password accepted.” If not, use `continue` to prompt the user to enter a valid password."
   ]
  },
  {
   "cell_type": "code",
   "execution_count": 155,
   "id": "e67061ec-17ef-4804-9f6d-69d7a6bfb386",
   "metadata": {},
   "outputs": [
    {
     "name": "stdin",
     "output_type": "stream",
     "text": [
      "Enter a password: aa\n"
     ]
    },
    {
     "name": "stdout",
     "output_type": "stream",
     "text": [
      "Invalid Password. Please Try Again\n"
     ]
    },
    {
     "name": "stdin",
     "output_type": "stream",
     "text": [
      "Enter a password: aaaaaaaa\n"
     ]
    },
    {
     "name": "stdout",
     "output_type": "stream",
     "text": [
      "Invalid Password. Please Try Again\n"
     ]
    },
    {
     "name": "stdin",
     "output_type": "stream",
     "text": [
      "Enter a password: AAAAAAAA\n"
     ]
    },
    {
     "name": "stdout",
     "output_type": "stream",
     "text": [
      "Invalid Password. Please Try Again\n"
     ]
    },
    {
     "name": "stdin",
     "output_type": "stream",
     "text": [
      "Enter a password: AAAAaaaa\n"
     ]
    },
    {
     "name": "stdout",
     "output_type": "stream",
     "text": [
      "Invalid Password. Please Try Again\n"
     ]
    },
    {
     "name": "stdin",
     "output_type": "stream",
     "text": [
      "Enter a password: AAAAaaa1\n"
     ]
    },
    {
     "name": "stdout",
     "output_type": "stream",
     "text": [
      "Password Accepted.\n"
     ]
    }
   ],
   "source": [
    "def is_valid_password(password):\n",
    "    if len(password) < 8:\n",
    "        return False\n",
    "\n",
    "    has_upper = False\n",
    "    for char in password:\n",
    "        if char.isupper():\n",
    "            has_upper = True\n",
    "            break\n",
    "    if not has_upper:\n",
    "        return False\n",
    "\n",
    "    has_lower = False\n",
    "    for char in password:\n",
    "        if char.islower():\n",
    "            has_lower = True\n",
    "            break\n",
    "    if not has_lower:\n",
    "        return False\n",
    "\n",
    "    has_digit = False\n",
    "    for char in password:\n",
    "        if char.isdigit():\n",
    "            has_digit = True\n",
    "            break\n",
    "    if not has_digit:\n",
    "        return False\n",
    "\n",
    "    return True\n",
    "\n",
    "\n",
    "while True:\n",
    "    password = input(\"Enter a password:\")\n",
    "\n",
    "    if is_valid_password(password):\n",
    "        print(\"Password Accepted.\")\n",
    "        break\n",
    "\n",
    "    else:\n",
    "        print(\"Invalid Password. Please Try Again\")\n",
    "        continue"
   ]
  },
  {
   "cell_type": "markdown",
   "id": "f1f40a87-825b-4e2d-9df0-fb532e790343",
   "metadata": {},
   "source": [
    "<br>\n",
    "95. Divisible by 3 or 5: Write a Python program to print all numbers from 1 to 50 that are divisible by either 3 or 5. Use a `for` loop and `continue` to skip numbers that are not divisible by either 3 or 5."
   ]
  },
  {
   "cell_type": "code",
   "execution_count": 156,
   "id": "532afc3b-3195-4c29-b8c0-ff474a1d0598",
   "metadata": {},
   "outputs": [
    {
     "name": "stdout",
     "output_type": "stream",
     "text": [
      "3\n",
      "5\n",
      "6\n",
      "9\n",
      "10\n",
      "12\n",
      "15\n",
      "18\n",
      "20\n",
      "21\n",
      "24\n",
      "25\n",
      "27\n",
      "30\n",
      "33\n",
      "35\n",
      "36\n",
      "39\n",
      "40\n",
      "42\n",
      "45\n",
      "48\n",
      "50\n"
     ]
    }
   ],
   "source": [
    "for i in range(1, 51):\n",
    "    if i%3 != 0 and i%5 != 0:\n",
    "        continue\n",
    "        \n",
    "    print(i)"
   ]
  },
  {
   "cell_type": "markdown",
   "id": "ea50b445-81a9-4523-90b0-e4c0f997ae33",
   "metadata": {},
   "source": [
    "<br>\n",
    "96. Positive Number Sum: Write a Python program that takes positive numbers as input until a negative number is entered. Then, calculate and print the sum of all positive numbers entered. Use a `while` loop and `break` to exit the loop when a negative number is encountered."
   ]
  },
  {
   "cell_type": "code",
   "execution_count": 157,
   "id": "71732ebf-a6ae-4da1-8618-debb3561f938",
   "metadata": {},
   "outputs": [
    {
     "name": "stdin",
     "output_type": "stream",
     "text": [
      "Enter a number: 10\n",
      "Enter a number: 20\n",
      "Enter a number: -1\n"
     ]
    },
    {
     "name": "stdout",
     "output_type": "stream",
     "text": [
      "Sum 30\n"
     ]
    }
   ],
   "source": [
    "sum = 0;\n",
    "while True:\n",
    "    n = int(input(\"Enter a number:\"))\n",
    "    if n<0:\n",
    "        break\n",
    "\n",
    "    else:\n",
    "        sum += n\n",
    "\n",
    "print(\"Sum\", sum)"
   ]
  },
  {
   "cell_type": "markdown",
   "id": "1ff09e67-2517-40ac-9909-222693ea213a",
   "metadata": {},
   "source": [
    "<br>\n",
    "97. Word Palindrome Checker: Write a Python program that takes a word as input and checks if it is a palindrome (reads the same forwards and backward). Use `continue` to skip checking the word if its length is less than 3 characters."
   ]
  },
  {
   "cell_type": "code",
   "execution_count": 161,
   "id": "a374066f-b07a-40c8-8c04-740b4096f4dc",
   "metadata": {},
   "outputs": [
    {
     "name": "stdin",
     "output_type": "stream",
     "text": [
      "Enter a string: madam\n"
     ]
    },
    {
     "name": "stdout",
     "output_type": "stream",
     "text": [
      "String madam is a palindrome\n"
     ]
    }
   ],
   "source": [
    "def check_palindrome(str):\n",
    "    \n",
    "    if len(str) < 3:\n",
    "        print(\"String is too short for palindrome\")\n",
    "        return\n",
    "        \n",
    "    left = 0\n",
    "    right = len(str)-1\n",
    "    is_palindrome = True\n",
    "    \n",
    "    while(left<right):\n",
    "        if(str[left] != str[right]):\n",
    "            is_palindrome = False\n",
    "            break\n",
    "        left += 1\n",
    "        right -= 1\n",
    "\n",
    "    if is_palindrome:\n",
    "        print(\"String %s is a palindrome\" %(str))\n",
    "\n",
    "    else:\n",
    "        print(\"String %s is not a palindrome\" %(str))\n",
    "\n",
    "str = input(\"Enter a string:\")\n",
    "check_palindrome(str)"
   ]
  },
  {
   "cell_type": "markdown",
   "id": "e8a2dbca-2146-40fa-b1b0-9760fe47ba2c",
   "metadata": {},
   "source": [
    "<br>\n",
    "98. Odd Number Finder: Write a Python program to find the first odd number from a list of integers. Use a `for` loop and `break` to stop the loop when the first odd number is found."
   ]
  },
  {
   "cell_type": "code",
   "execution_count": 162,
   "id": "d08f7211-2cf3-41c2-ac62-f1d438de7ace",
   "metadata": {},
   "outputs": [
    {
     "name": "stdin",
     "output_type": "stream",
     "text": [
      "Enter the elements of the list:  4 8 5 1 7\n"
     ]
    },
    {
     "name": "stdout",
     "output_type": "stream",
     "text": [
      "List: [4, 8, 5, 1, 7]\n",
      "First odd number 5 is found\n"
     ]
    }
   ],
   "source": [
    "list_ = list(map(int, input(\"Enter the elements of the list: \").split()))\n",
    "\n",
    "print(\"List:\", list_)\n",
    "\n",
    "for i in list_:\n",
    "    if i%2 != 0:\n",
    "        print(f\"First odd number {i} is found\")\n",
    "        break"
   ]
  },
  {
   "cell_type": "markdown",
   "id": "7389c7d1-0984-42f9-ae65-2ecac8efdaf4",
   "metadata": {},
   "source": [
    "99. Number Guessing Game: Write a Python program that generates a random number between 1 and 100 and lets the user guess the number. Use a `while` loop, `break` when the correct number is guessed, and `continue` to keep prompting the user until they guess correctly."
   ]
  },
  {
   "cell_type": "code",
   "execution_count": 164,
   "id": "98b43825-6f00-47e3-9674-7240cbd366a2",
   "metadata": {},
   "outputs": [
    {
     "name": "stdin",
     "output_type": "stream",
     "text": [
      "Enter a number between 1 to 100:  50\n"
     ]
    },
    {
     "name": "stdout",
     "output_type": "stream",
     "text": [
      "50 is too high\n"
     ]
    },
    {
     "name": "stdin",
     "output_type": "stream",
     "text": [
      "Enter a number between 1 to 100:  40\n"
     ]
    },
    {
     "name": "stdout",
     "output_type": "stream",
     "text": [
      "40 is too low\n"
     ]
    },
    {
     "name": "stdin",
     "output_type": "stream",
     "text": [
      "Enter a number between 1 to 100:  41\n"
     ]
    },
    {
     "name": "stdout",
     "output_type": "stream",
     "text": [
      "41 is too low\n"
     ]
    },
    {
     "name": "stdin",
     "output_type": "stream",
     "text": [
      "Enter a number between 1 to 100:  42\n"
     ]
    },
    {
     "name": "stdout",
     "output_type": "stream",
     "text": [
      "42 is too low\n"
     ]
    },
    {
     "name": "stdin",
     "output_type": "stream",
     "text": [
      "Enter a number between 1 to 100:  43\n"
     ]
    },
    {
     "name": "stdout",
     "output_type": "stream",
     "text": [
      "43 is too low\n"
     ]
    },
    {
     "name": "stdin",
     "output_type": "stream",
     "text": [
      "Enter a number between 1 to 100:  44\n"
     ]
    },
    {
     "name": "stdout",
     "output_type": "stream",
     "text": [
      "44 is too low\n"
     ]
    },
    {
     "name": "stdin",
     "output_type": "stream",
     "text": [
      "Enter a number between 1 to 100:  45\n"
     ]
    },
    {
     "name": "stdout",
     "output_type": "stream",
     "text": [
      "45 is too low\n"
     ]
    },
    {
     "name": "stdin",
     "output_type": "stream",
     "text": [
      "Enter a number between 1 to 100:  46\n"
     ]
    },
    {
     "name": "stdout",
     "output_type": "stream",
     "text": [
      "46 is the correct guess!\n"
     ]
    }
   ],
   "source": [
    "import random\n",
    "\n",
    "low = 1\n",
    "high = 100\n",
    "\n",
    "number = random.randint(low, high)\n",
    "\n",
    "while True:\n",
    "    guess = int(input(\"Enter a number between %d to %d: \" %(low, high)))\n",
    "    if(guess<number):\n",
    "        print(\"%d is too low\" %(guess))\n",
    "\n",
    "    elif(guess>number):\n",
    "        print(\"%d is too high\" %(guess))\n",
    "\n",
    "    else:\n",
    "        print(\"%d is the correct guess!\" %(guess))\n",
    "        break"
   ]
  },
  {
   "cell_type": "markdown",
   "id": "f33827fb-e1d0-4252-8f32-6f2633069873",
   "metadata": {},
   "source": [
    "<br>\n",
    "100. Vowel Counter: Write a Python program that takes a string as input and counts the number of vowels (a, e, i, o, u) in it. Use a `for` loop and `continue` to skip counting non-vowel characters."
   ]
  },
  {
   "cell_type": "code",
   "execution_count": 167,
   "id": "51a311fa-f2b2-41e9-9fa6-0fff1c6431e2",
   "metadata": {},
   "outputs": [
    {
     "name": "stdin",
     "output_type": "stream",
     "text": [
      "Enter a string: SHUSMITA\n"
     ]
    },
    {
     "name": "stdout",
     "output_type": "stream",
     "text": [
      "Number of Vowels: 3\n"
     ]
    }
   ],
   "source": [
    "s = input(\"Enter a string:\").lower()\n",
    "cnt = 0\n",
    "\n",
    "for i in s:\n",
    "    if i == 'a' or i == 'e' or i == 'i' or i == 'o' or i == 'u':\n",
    "        cnt += 1\n",
    "\n",
    "    else:\n",
    "        continue\n",
    "\n",
    "print(\"Number of Vowels:\", cnt)"
   ]
  },
  {
   "cell_type": "markdown",
   "id": "da7846a6-ce46-43fd-9390-c1e95f735340",
   "metadata": {},
   "source": [
    "<br>\n",
    "101. Unique Characters: Write a Python program that takes a string as input and checks if it contains all unique characters (no character repeats). Use a `for` loop and `break` when a character repeats."
   ]
  },
  {
   "cell_type": "code",
   "execution_count": 170,
   "id": "5dd09c18-2d71-46cf-b670-409fcee70b78",
   "metadata": {},
   "outputs": [
    {
     "name": "stdin",
     "output_type": "stream",
     "text": [
      "Enter a string: shusmita\n"
     ]
    },
    {
     "name": "stdout",
     "output_type": "stream",
     "text": [
      "String 'shusmita' does not contain all unique characters\n"
     ]
    }
   ],
   "source": [
    "s = input(\"Enter a string:\")\n",
    "\n",
    "is_unique = True\n",
    "for i in range(len(s)):\n",
    "    for k in range(i+1, len(s)):\n",
    "        if s[i] == s[k]:\n",
    "            is_unique = False\n",
    "            break\n",
    "\n",
    "if is_unique:\n",
    "    print(f\"String '{s}' contains all unique characters\")\n",
    "\n",
    "else:\n",
    "    print(f\"String '{s}' does not contain all unique characters\")"
   ]
  },
  {
   "cell_type": "markdown",
   "id": "c2f306d8-cfe6-4571-97f2-f9393900498a",
   "metadata": {},
   "source": [
    "<br>\n",
    "102. Factorial Calculator: Write a Python function called `factorial` that takes an integer as input and returns its factorial. Test the function with different values."
   ]
  },
  {
   "cell_type": "code",
   "execution_count": 171,
   "id": "3c504a95-e828-40a9-acf4-bd3b3877d063",
   "metadata": {},
   "outputs": [
    {
     "name": "stdin",
     "output_type": "stream",
     "text": [
      "Enter Test Cases: 4\n",
      "Enter a number: 0\n"
     ]
    },
    {
     "name": "stdout",
     "output_type": "stream",
     "text": [
      "Factorial of 0 is: 1\n"
     ]
    },
    {
     "name": "stdin",
     "output_type": "stream",
     "text": [
      "Enter a number: 1\n"
     ]
    },
    {
     "name": "stdout",
     "output_type": "stream",
     "text": [
      "Factorial of 1 is: 1\n"
     ]
    },
    {
     "name": "stdin",
     "output_type": "stream",
     "text": [
      "Enter a number: 7\n"
     ]
    },
    {
     "name": "stdout",
     "output_type": "stream",
     "text": [
      "Factorial of 7 is: 5040\n"
     ]
    },
    {
     "name": "stdin",
     "output_type": "stream",
     "text": [
      "Enter a number: 5\n"
     ]
    },
    {
     "name": "stdout",
     "output_type": "stream",
     "text": [
      "Factorial of 5 is: 120\n"
     ]
    }
   ],
   "source": [
    "def factorial(n):\n",
    "    if n < 0:\n",
    "        return None\n",
    "\n",
    "    elif n == 0 or n == 1:\n",
    "        return 1\n",
    "\n",
    "    else:\n",
    "        fact = 1\n",
    "        for i in range(2, n+1):\n",
    "            fact *= i\n",
    "        return fact\n",
    "\n",
    "t = int(input(\"Enter Test Cases:\"))\n",
    "\n",
    "while(t > 0):\n",
    "    n = int(input(\"Enter a number:\"))\n",
    "    print(f\"Factorial of {n} is: {factorial(n)}\")\n",
    "    t -= 1"
   ]
  },
  {
   "cell_type": "markdown",
   "id": "7a140656-12fb-4b67-8efc-d4b537ac15e4",
   "metadata": {},
   "source": [
    "<br>\n",
    "103. Palindrome Checker: Write a Python function called `is_palindrome` that takes a string as input and returns `True` if it is a palindrome and `False` otherwise. Test the function with different words."
   ]
  },
  {
   "cell_type": "code",
   "execution_count": 176,
   "id": "335a4bf6-b292-4c0b-ac17-4740e91237cb",
   "metadata": {},
   "outputs": [
    {
     "name": "stdin",
     "output_type": "stream",
     "text": [
      "Enter Test Cases: 4\n",
      "Enter a String: zzzz\n"
     ]
    },
    {
     "name": "stdout",
     "output_type": "stream",
     "text": [
      "String zzzz is a palindrome\n"
     ]
    },
    {
     "name": "stdin",
     "output_type": "stream",
     "text": [
      "Enter a String: abba\n"
     ]
    },
    {
     "name": "stdout",
     "output_type": "stream",
     "text": [
      "String abba is a palindrome\n"
     ]
    },
    {
     "name": "stdin",
     "output_type": "stream",
     "text": [
      "Enter a String: abcd\n"
     ]
    },
    {
     "name": "stdout",
     "output_type": "stream",
     "text": [
      "String abcd is not a palindrome\n"
     ]
    },
    {
     "name": "stdin",
     "output_type": "stream",
     "text": [
      "Enter a String: madam\n"
     ]
    },
    {
     "name": "stdout",
     "output_type": "stream",
     "text": [
      "String madam is a palindrome\n"
     ]
    }
   ],
   "source": [
    "def is_palindrome(str):\n",
    "    \n",
    "    if len(str) < 3:\n",
    "        return False\n",
    "        \n",
    "    left = 0\n",
    "    right = len(str)-1\n",
    "    \n",
    "    while(left<right):\n",
    "        if(str[left] != str[right]):\n",
    "            return False\n",
    "        left += 1\n",
    "        right -= 1\n",
    "\n",
    "    return True\n",
    "\n",
    "t = int(input(\"Enter Test Cases:\"))\n",
    "\n",
    "while(t > 0):\n",
    "    s = input(\"Enter a String:\")\n",
    "    if is_palindrome(s):\n",
    "        print(\"String %s is a palindrome\" %(s))\n",
    "\n",
    "    else:\n",
    "        print(\"String %s is not a palindrome\" %(s))\n",
    "\n",
    "    t -= 1"
   ]
  },
  {
   "cell_type": "markdown",
   "id": "32638bab-4189-45c1-a77a-7cbebe96d0a1",
   "metadata": {},
   "source": [
    "<br>\n",
    "104. Even or Odd Checker: Write a Python function called `even_or_odd` that takes an integer as input and returns “Even” if the number is even and “Odd” if the number is odd. Test the function with different numbers."
   ]
  },
  {
   "cell_type": "code",
   "execution_count": 177,
   "id": "6b5e8211-4482-4758-a22b-bb342af0ab67",
   "metadata": {},
   "outputs": [
    {
     "name": "stdin",
     "output_type": "stream",
     "text": [
      "Enter Test Cases: 3\n",
      "Enter a number: 0\n"
     ]
    },
    {
     "name": "stdout",
     "output_type": "stream",
     "text": [
      "The number is Even\n"
     ]
    },
    {
     "name": "stdin",
     "output_type": "stream",
     "text": [
      "Enter a number: 5\n"
     ]
    },
    {
     "name": "stdout",
     "output_type": "stream",
     "text": [
      "The number is Odd\n"
     ]
    },
    {
     "name": "stdin",
     "output_type": "stream",
     "text": [
      "Enter a number: 2\n"
     ]
    },
    {
     "name": "stdout",
     "output_type": "stream",
     "text": [
      "The number is Even\n"
     ]
    }
   ],
   "source": [
    "def Even_Odd(n):\n",
    "    if n%2 == 0:\n",
    "        return 'Even'\n",
    "\n",
    "    else:\n",
    "        return 'Odd'\n",
    "\n",
    "t = int(input(\"Enter Test Cases:\"))\n",
    "while(t > 0):\n",
    "    n = int(input(\"Enter a number:\"))\n",
    "    print(\"The number is\", Even_Odd(n))\n",
    "    \n",
    "    t -= 1\n"
   ]
  },
  {
   "cell_type": "markdown",
   "id": "9d456643-bb2f-46da-9b8d-2cda8a4bee9f",
   "metadata": {},
   "source": [
    "<br>\n",
    "105. List Sum Calculator: Write a Python function called `list_sum` that takes a list of integers as input and returns the sum of all elements in the list. Test the function with different lists."
   ]
  },
  {
   "cell_type": "code",
   "execution_count": 181,
   "id": "2d9b0df8-1b66-4107-ac10-0648ebc25cc0",
   "metadata": {},
   "outputs": [
    {
     "name": "stdin",
     "output_type": "stream",
     "text": [
      "Enter Test Cases: 2\n",
      "Enter the elements of the list:  1 2 3 4\n"
     ]
    },
    {
     "name": "stdout",
     "output_type": "stream",
     "text": [
      "Sum of the list elements: 10\n"
     ]
    },
    {
     "name": "stdin",
     "output_type": "stream",
     "text": [
      "Enter the elements of the list:  5 1 0 2\n"
     ]
    },
    {
     "name": "stdout",
     "output_type": "stream",
     "text": [
      "Sum of the list elements: 8\n"
     ]
    }
   ],
   "source": [
    "def list_sum(list_):\n",
    "    sum = 0\n",
    "    for i in list_:\n",
    "        sum += i\n",
    "    return sum\n",
    "\n",
    "t = int(input(\"Enter Test Cases:\"))\n",
    "while(t > 0):\n",
    "    list_ = list(map(int, input(\"Enter the elements of the list: \").split()))\n",
    "    print(\"Sum of the list elements:\", list_sum(list_))\n",
    "    t -= 1"
   ]
  },
  {
   "cell_type": "markdown",
   "id": "248a0fd3-cd58-4abf-b03c-efe7dcdc49d5",
   "metadata": {},
   "source": [
    "<br>\n",
    "106. Greatest Common Divisor (GCD) Calculator: Write a Python function called `gcd` that takes two integers as input and returns their greatest common divisor. Test the function with different pairs of numbers."
   ]
  },
  {
   "cell_type": "code",
   "execution_count": 183,
   "id": "6b0bb39d-38a8-4489-9363-ef19afaaa6d0",
   "metadata": {},
   "outputs": [
    {
     "name": "stdin",
     "output_type": "stream",
     "text": [
      "Enter Test Cases: 2\n",
      "Enter the first number: 12\n",
      "Enter the second number: 36\n"
     ]
    },
    {
     "name": "stdout",
     "output_type": "stream",
     "text": [
      "GCD of 12 and 36 is: 12\n",
      "\n",
      "\n"
     ]
    },
    {
     "name": "stdin",
     "output_type": "stream",
     "text": [
      "Enter the first number: 36\n",
      "Enter the second number: 60\n"
     ]
    },
    {
     "name": "stdout",
     "output_type": "stream",
     "text": [
      "GCD of 36 and 60 is: 12\n",
      "\n",
      "\n"
     ]
    }
   ],
   "source": [
    "def GCD(a, b):\n",
    "    while b!=0:\n",
    "        a, b= b, a%b\n",
    "    return a\n",
    "\n",
    "t = int(input(\"Enter Test Cases:\"))\n",
    "while(t > 0):\n",
    "    a = int(input(\"Enter the first number:\"))\n",
    "    b = int(input(\"Enter the second number:\"))\n",
    "    print(f\"GCD of {a} and {b} is:\", GCD(a, b))\n",
    "    print(\"\\n\")\n",
    "    t -= 1"
   ]
  },
  {
   "cell_type": "markdown",
   "id": "3ddd6448-d06d-4f52-960f-750e8b6dc676",
   "metadata": {},
   "source": [
    "<br>\n",
    "107. Leap Year Checker: Write a Python function called `is_leap_year` that takes a year as input and returns `True` if it is a leap year and `False` otherwise. Test the function with different years."
   ]
  },
  {
   "cell_type": "code",
   "execution_count": 184,
   "id": "c2807a2c-68fe-4c9e-b715-92d7e0ab8fe7",
   "metadata": {},
   "outputs": [
    {
     "name": "stdin",
     "output_type": "stream",
     "text": [
      "Enter Test Cases: 2\n",
      "Enter a year:  2024\n"
     ]
    },
    {
     "name": "stdout",
     "output_type": "stream",
     "text": [
      "2024 is a leap year\n"
     ]
    },
    {
     "name": "stdin",
     "output_type": "stream",
     "text": [
      "Enter a year:  2025\n"
     ]
    },
    {
     "name": "stdout",
     "output_type": "stream",
     "text": [
      "2025 is not a leap year\n"
     ]
    }
   ],
   "source": [
    "def Leap_Year(year):\n",
    "    if(year%4 == 0 and year%100 != 0) or (year%400 == 0):\n",
    "        return True\n",
    "    else:\n",
    "        return False\n",
    "\n",
    "t = int(input(\"Enter Test Cases:\"))\n",
    "while(t > 0):\n",
    "    year = int(input(\"Enter a year: \"))\n",
    "    \n",
    "    if Leap_Year(year):\n",
    "        print(\"%d is a leap year\" %(year))\n",
    "    else:\n",
    "        print(\"%d is not a leap year\" %(year))\n",
    "\n",
    "    t -= 1"
   ]
  },
  {
   "cell_type": "markdown",
   "id": "00c75895-b29c-47ca-a8f8-9622b3f2a348",
   "metadata": {},
   "source": [
    "<br>\n",
    "108. Math Operations: Write a Python function called `math_operations` that takes three numbers and a string representing an operation (‘add’, ‘subtract’, ‘multiply’, or ‘divide’). The function should return the result of the specified operation on the three numbers. Implement the math operations as nested functions."
   ]
  },
  {
   "cell_type": "code",
   "execution_count": 187,
   "id": "7e98ccf8-ea44-4a61-9712-66e0f8a5dfe4",
   "metadata": {},
   "outputs": [
    {
     "name": "stdin",
     "output_type": "stream",
     "text": [
      "Enter Test Cases: 5\n",
      "Enter 1st number: 4\n",
      "Enter 2nd number: 7\n",
      "Enter 3rd number: 0\n",
      "Enter Operation addition\n"
     ]
    },
    {
     "name": "stdout",
     "output_type": "stream",
     "text": [
      "11\n"
     ]
    },
    {
     "name": "stdin",
     "output_type": "stream",
     "text": [
      "Enter 1st number: 8\n",
      "Enter 2nd number: 0\n",
      "Enter 3rd number: 2\n",
      "Enter Operation subtraction\n"
     ]
    },
    {
     "name": "stdout",
     "output_type": "stream",
     "text": [
      "6\n"
     ]
    },
    {
     "name": "stdin",
     "output_type": "stream",
     "text": [
      "Enter 1st number: 2\n",
      "Enter 2nd number: 5\n",
      "Enter 3rd number: 1\n",
      "Enter Operation multiplication\n"
     ]
    },
    {
     "name": "stdout",
     "output_type": "stream",
     "text": [
      "10\n"
     ]
    },
    {
     "name": "stdin",
     "output_type": "stream",
     "text": [
      "Enter 1st number: 10\n",
      "Enter 2nd number: 2\n",
      "Enter 3rd number: 5\n",
      "Enter Operation division\n"
     ]
    },
    {
     "name": "stdout",
     "output_type": "stream",
     "text": [
      "1.0\n"
     ]
    },
    {
     "name": "stdin",
     "output_type": "stream",
     "text": [
      "Enter 1st number: 1\n",
      "Enter 2nd number: 1\n",
      "Enter 3rd number: 1\n",
      "Enter Operation divide\n"
     ]
    },
    {
     "name": "stdout",
     "output_type": "stream",
     "text": [
      "None\n"
     ]
    }
   ],
   "source": [
    "def math_operations(n1, n2, n3, opr):\n",
    "    def add(a, b, c):\n",
    "        return a + b + c\n",
    "\n",
    "    def sub(a, b, c):\n",
    "        return a - b - c\n",
    "        \n",
    "    def multi(a, b, c):\n",
    "        return a * b * c\n",
    "        \n",
    "    def div(a, b, c):\n",
    "        if b == 0 or c == 0:\n",
    "            return None\n",
    "        return a / b / c\n",
    "\n",
    "    \n",
    "    if opr == 'addition':\n",
    "        return add(n1, n2, n3)\n",
    "        \n",
    "    elif opr == 'subtraction':\n",
    "        return sub(n1, n2, n3)\n",
    "                \n",
    "    elif opr == 'multiplication':\n",
    "        return multi(n1, n2, n3)\n",
    "                \n",
    "    elif opr == 'division':\n",
    "        return div(n1, n2, n3)\n",
    "\n",
    "    else:\n",
    "        return None\n",
    "\n",
    "\n",
    "t = int(input(\"Enter Test Cases:\"))\n",
    "while(t > 0):\n",
    "    n1 = int(input(\"Enter 1st number:\"))\n",
    "    n2 = int(input(\"Enter 2nd number:\"))\n",
    "    n3 = int(input(\"Enter 3rd number:\"))\n",
    "\n",
    "    operation = input(\"Enter Operation\").lower()\n",
    "\n",
    "    print(math_operations(n1, n2, n3, operation))\n",
    "\n",
    "    t -= 1"
   ]
  },
  {
   "cell_type": "markdown",
   "id": "66c774a8-cf15-49c8-81b5-21db011ab0a8",
   "metadata": {},
   "source": [
    "<br>\n",
    "109. Greeting Generator: Write a Python function called `greeting_generator` that takes a name as input and returns a greeting message using nested functions. The greeting message should be customizable (e.g., “Hello, {name}! How are you today?”)."
   ]
  },
  {
   "cell_type": "code",
   "execution_count": 188,
   "id": "62d76132-45a8-4835-baca-77fef95a45bb",
   "metadata": {},
   "outputs": [
    {
     "name": "stdin",
     "output_type": "stream",
     "text": [
      "Enter your name: Shusmita\n"
     ]
    },
    {
     "name": "stdout",
     "output_type": "stream",
     "text": [
      "Hello, Shusmita! How are you today?\n"
     ]
    }
   ],
   "source": [
    "def greeting_generator(name):\n",
    "    def greeting_message():\n",
    "        return f\"Hello, {name}! How are you today?\"\n",
    "    return greeting_message()\n",
    "\n",
    "name = input(\"Enter your name:\")\n",
    "print(greeting_generator(name))"
   ]
  },
  {
   "cell_type": "markdown",
   "id": "db553b76-af0c-41a4-930a-9e498151f5e6",
   "metadata": {},
   "source": [
    "<br>\n",
    "110. Temperature Converter: Write a Python function called `temperature_converter` that takes a temperature value and a string representing the scale (‘C’ for Celsius or ‘F’ for Fahrenheit) as input. The function should convert the temperature from one scale to the other using nested functions and return the converted value."
   ]
  },
  {
   "cell_type": "code",
   "execution_count": 189,
   "id": "2c401c58-a374-4efa-8a7e-2f331ae0ed22",
   "metadata": {},
   "outputs": [
    {
     "name": "stdin",
     "output_type": "stream",
     "text": [
      "Enter Test Cases: 2\n",
      "Enter Temperature: 40\n",
      "Enter Scale: C\n"
     ]
    },
    {
     "name": "stdout",
     "output_type": "stream",
     "text": [
      "40.0 C is 104.00 F\n",
      "\n",
      "\n"
     ]
    },
    {
     "name": "stdin",
     "output_type": "stream",
     "text": [
      "Enter Temperature: 104\n",
      "Enter Scale: F\n"
     ]
    },
    {
     "name": "stdout",
     "output_type": "stream",
     "text": [
      "104.0 F is 40.00 C\n",
      "\n",
      "\n"
     ]
    }
   ],
   "source": [
    "def temperature_converter(temp, scale):\n",
    "    def celcius_to_fahrenheit(celsius):\n",
    "        return ((celsius * 9 / 5) + 32, 'F')\n",
    "        \n",
    "    def fahrenheit_to_celsius(fahrenheit):\n",
    "        return ((fahrenheit - 32) * (5 / 9), 'C')\n",
    "\n",
    "\n",
    "    if scale == 'C':\n",
    "        return celcius_to_fahrenheit(temp)\n",
    "\n",
    "    elif scale == 'F':\n",
    "        return fahrenheit_to_celsius(temp)\n",
    "\n",
    "    else:\n",
    "        return \"Invalid Scale\"\n",
    "\n",
    "t = int(input(\"Enter Test Cases:\"))\n",
    "while(t > 0):\n",
    "    temperature = float(input(\"Enter Temperature:\"))\n",
    "    scale = input(\"Enter Scale:\")\n",
    "\n",
    "    converted = temperature_converter(temperature, scale)\n",
    "\n",
    "    if(type(converted) == tuple):\n",
    "        print(f\"{temperature} {scale} is {converted[0]:.2f} {converted[1]}\")\n",
    "\n",
    "    else:\n",
    "        print(converted)\n",
    "\n",
    "    print(\"\\n\")\n",
    "\n",
    "    t -= 1"
   ]
  },
  {
   "cell_type": "markdown",
   "id": "43c3b6f2-4303-44d9-af41-394528c027c8",
   "metadata": {},
   "source": [
    "<br>\n",
    "111. Factorial Calculation: Write a recursive Python function called `factorial` that takes a non-negative integer as input and returns its factorial"
   ]
  },
  {
   "cell_type": "code",
   "execution_count": 190,
   "id": "5b9b250f-883d-4ff8-b677-a9f2fa5ae7c8",
   "metadata": {},
   "outputs": [
    {
     "name": "stdin",
     "output_type": "stream",
     "text": [
      "Enter a number:  7\n"
     ]
    },
    {
     "name": "stdout",
     "output_type": "stream",
     "text": [
      "Factorial of 7 is 5040\n"
     ]
    }
   ],
   "source": [
    "def Factorial(n):\n",
    "    if n==0:\n",
    "        return 1\n",
    "\n",
    "    else:\n",
    "        return n * Factorial(n-1)\n",
    "\n",
    "n = int(input(\"Enter a number: \"))\n",
    "\n",
    "if(n<0):\n",
    "    print(\"Factorials is not possible for negative numbers\")\n",
    "\n",
    "else:\n",
    "    fact = Factorial(n)\n",
    "    print(f\"Factorial of {n} is {fact}\")"
   ]
  },
  {
   "cell_type": "markdown",
   "id": "5cba6246-09d2-4f64-b4f4-c4d670f96bd7",
   "metadata": {},
   "source": [
    "<br>\n",
    "112. Fibonacci Series: Write a recursive Python function called `Fibonacci` that takes an integer N as input and returns the Nth number in the Fibonacci series. The Fibonacci series is defined as follows: F(0) = 0, F(1) = 1, and F(n) = F(n-1) + F(n-2) for n > 1."
   ]
  },
  {
   "cell_type": "code",
   "execution_count": 191,
   "id": "920fbd21-8eba-453b-8749-8209c9444f2b",
   "metadata": {},
   "outputs": [
    {
     "name": "stdin",
     "output_type": "stream",
     "text": [
      "Enter a number: 10\n"
     ]
    },
    {
     "name": "stdout",
     "output_type": "stream",
     "text": [
      "The 10th number Fibonacci series is: 55\n"
     ]
    }
   ],
   "source": [
    "def Fibonacci(n):\n",
    "    if n == 0:\n",
    "        return 0\n",
    "\n",
    "    elif n == 1:\n",
    "        return 1\n",
    "\n",
    "    else:\n",
    "        return Fibonacci(n-1) + Fibonacci(n-2)\n",
    "\n",
    "number = int(input(\"Enter a number:\"))\n",
    "\n",
    "if number < 0:\n",
    "    print(\"Enter a non-negative number:\")\n",
    "\n",
    "else:\n",
    "    fibo = Fibonacci(number)\n",
    "    print(f\"The {number}th number Fibonacci series is:\", fibo)"
   ]
  },
  {
   "cell_type": "markdown",
   "id": "5f71a755-dd3e-4a12-8e60-7a506afc7085",
   "metadata": {},
   "source": [
    "<br>\n",
    "113. The sum of Digits: Write a recursive Python function called `sum_of_digits` that takes an integer as input and returns the sum of its digits."
   ]
  },
  {
   "cell_type": "code",
   "execution_count": 192,
   "id": "df961fee-338d-45d0-b05e-fd2c23942f8f",
   "metadata": {},
   "outputs": [
    {
     "name": "stdin",
     "output_type": "stream",
     "text": [
      "Enter a number: 7410\n"
     ]
    },
    {
     "name": "stdout",
     "output_type": "stream",
     "text": [
      "Sum of the digits of number 7410 is: 12\n"
     ]
    }
   ],
   "source": [
    "def Digit_Sum(n):\n",
    "    if n < 10:\n",
    "        return n\n",
    "\n",
    "    else:\n",
    "        return n % 10 + Digit_Sum(n//10)\n",
    "\n",
    "number = int(input(\"Enter a number:\"))\n",
    "digit_sum = Digit_Sum(number)\n",
    "print(f\"Sum of the digits of number {number} is:\", digit_sum)"
   ]
  },
  {
   "cell_type": "markdown",
   "id": "9e601ded-2771-456d-9d30-88758fbc596e",
   "metadata": {},
   "source": [
    "<br>\n",
    "114. Binary Search: Write a recursive Python function called `binary_search` that takes a sorted list and a target value as input and returns the index of the target value in the list using binary search. If the target value is not in the list, return -1."
   ]
  },
  {
   "cell_type": "code",
   "execution_count": 193,
   "id": "a3ba3ced-8768-49c5-aa4c-d17b743351e0",
   "metadata": {},
   "outputs": [
    {
     "name": "stdin",
     "output_type": "stream",
     "text": [
      "Enter the elements of the list:  8 5 1 0 7 4 0 1\n"
     ]
    },
    {
     "name": "stdout",
     "output_type": "stream",
     "text": [
      "Original List: [8, 5, 1, 0, 7, 4, 0, 1]\n",
      "Sorted List: [0, 0, 1, 1, 4, 5, 7, 8]\n"
     ]
    },
    {
     "name": "stdin",
     "output_type": "stream",
     "text": [
      "Enter a number to search in the list: 0\n"
     ]
    },
    {
     "name": "stdout",
     "output_type": "stream",
     "text": [
      "Target value 0 is found in the index 1\n"
     ]
    }
   ],
   "source": [
    "def Binary_Search(list_, flag, left, right):\n",
    "    if left > right:\n",
    "        return -1\n",
    "\n",
    "    mid = (left + right) // 2\n",
    "\n",
    "    if list_[mid] == flag:\n",
    "        return mid\n",
    "\n",
    "    elif list_[mid] < flag:\n",
    "        return Binary_Search(list_, flag, mid + 1, right)\n",
    "\n",
    "    else:\n",
    "        return Binary_Search(list_, flag, left, mid -1)\n",
    "\n",
    "\n",
    "list_ = list(map(int, input(\"Enter the elements of the list: \").split()))\n",
    "print(\"Original List:\", list_)\n",
    "list_.sort()\n",
    "print(\"Sorted List:\", list_)\n",
    "\n",
    "flag = int(input(\"Enter a number to search in the list:\"))\n",
    "left = 0\n",
    "right = len(list_) - 1\n",
    "index = Binary_Search(list_, flag, left, right)\n",
    "\n",
    "if index == -1:\n",
    "    print(f\"Target value {flag} is not found in the list\")\n",
    "\n",
    "else:\n",
    "    print(f\"Target value {flag} is found in the index {index}\")"
   ]
  },
  {
   "cell_type": "markdown",
   "id": "5143b344-260c-4eaa-b3a4-de9f71b4d631",
   "metadata": {},
   "source": [
    "<br>\n",
    "115. Power Calculation: Write a recursive Python function called `power` that takes two positive integers, base and exponent, as input and returns the value of base raised to the exponent."
   ]
  },
  {
   "cell_type": "code",
   "execution_count": 194,
   "id": "587951a1-b912-44e9-86c6-73b64fbfdbae",
   "metadata": {},
   "outputs": [
    {
     "name": "stdin",
     "output_type": "stream",
     "text": [
      "Enter the base: 2\n",
      "Enter the exponent: 4\n"
     ]
    },
    {
     "name": "stdout",
     "output_type": "stream",
     "text": [
      " the value of base 2 raised to the exponent 4 is: 16\n"
     ]
    }
   ],
   "source": [
    "def Power(base, exp):\n",
    "    if exp == 0:\n",
    "        return 1\n",
    "\n",
    "    else:\n",
    "        return base * Power(base, exp-1)\n",
    "\n",
    "base = int(input(\"Enter the base:\"))\n",
    "exp = int(input(\"Enter the exponent:\"))\n",
    "\n",
    "ans = Power(base, exp)\n",
    "print(f\" the value of base {base} raised to the exponent {exp} is:\", ans)"
   ]
  },
  {
   "cell_type": "code",
   "execution_count": null,
   "id": "24833f34-5c8d-4b77-859d-22f8e459113e",
   "metadata": {},
   "outputs": [],
   "source": []
  }
 ],
 "metadata": {
  "kernelspec": {
   "display_name": "Python 3 (ipykernel)",
   "language": "python",
   "name": "python3"
  },
  "language_info": {
   "codemirror_mode": {
    "name": "ipython",
    "version": 3
   },
   "file_extension": ".py",
   "mimetype": "text/x-python",
   "name": "python",
   "nbconvert_exporter": "python",
   "pygments_lexer": "ipython3",
   "version": "3.11.7"
  }
 },
 "nbformat": 4,
 "nbformat_minor": 5
}
